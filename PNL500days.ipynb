{
 "cells": [
  {
   "cell_type": "markdown",
   "metadata": {
    "deletable": true,
    "editable": true
   },
   "source": [
    "### Field report: PNL and hit rate analysis for 5 basic strategies.\n",
    "### 17/03/17- v0.1\n",
    "#### por mrg"
   ]
  },
  {
   "cell_type": "code",
   "execution_count": null,
   "metadata": {
    "collapsed": true,
    "deletable": true,
    "editable": true
   },
   "outputs": [],
   "source": []
  },
  {
   "cell_type": "code",
   "execution_count": null,
   "metadata": {
    "collapsed": true,
    "deletable": true,
    "editable": true
   },
   "outputs": [],
   "source": [
    "#Load packages\n",
    "Pkg.add(\"TimeSeries\");Pkg.add(\"MarketData\");Pkg.add(\"Plots\");Pkg.add(\"PlotlyJS\");\n",
    "Pkg.add(\"Gadfly\");Pkg.add(\"StatsBase\");Pkg.update();"
   ]
  },
  {
   "cell_type": "code",
   "execution_count": 98,
   "metadata": {
    "collapsed": false,
    "deletable": true,
    "editable": true
   },
   "outputs": [
    {
     "name": "stderr",
     "output_type": "stream",
     "text": [
      "\u001b[1m\u001b[34mINFO: Recompiling stale cache file C:\\Users\\miguel\\.julia\\lib\\v0.5\\StatsBase.ji for module StatsBase.\n",
      "\u001b[0m"
     ]
    }
   ],
   "source": [
    "using TimeSeries, MarketData, Plots, PlotlyJS, StatsBase;"
   ]
  },
  {
   "cell_type": "code",
   "execution_count": null,
   "metadata": {
    "collapsed": false,
    "deletable": true,
    "editable": true,
    "scrolled": true
   },
   "outputs": [],
   "source": [
    "typeof(ohlc)"
   ]
  },
  {
   "cell_type": "code",
   "execution_count": null,
   "metadata": {
    "collapsed": false,
    "deletable": true,
    "editable": true
   },
   "outputs": [],
   "source": [
    "ohlc"
   ]
  },
  {
   "cell_type": "code",
   "execution_count": null,
   "metadata": {
    "collapsed": true
   },
   "outputs": [],
   "source": [
    "ohlc[\"Open\"]"
   ]
  },
  {
   "cell_type": "code",
   "execution_count": null,
   "metadata": {
    "collapsed": true,
    "deletable": true,
    "editable": true
   },
   "outputs": [],
   "source": [
    "import TimeSeries.moving"
   ]
  },
  {
   "cell_type": "code",
   "execution_count": null,
   "metadata": {
    "collapsed": true,
    "deletable": true,
    "editable": true
   },
   "outputs": [],
   "source": [
    "# Función ventana\n",
    "function moving{T}(ta::TimeArray{T,1}, f::Function, window::Int; padding::Bool=false)\n",
    "    tstamps = padding ? ta.timestamp : ta.timestamp[window:end]\n",
    "    vals    = zeros(ta.values[window:end])\n",
    "    @inbounds for i=1:length(vals)\n",
    "        vals[i] = f(ta.values[i:i+(window-1)])\n",
    "    end\n",
    "    padding && (vals = [NaN*ones(window-1); vals])\n",
    "    TimeArray(tstamps, vals, ta.colnames, ta.meta)\n",
    "end\n",
    "\n",
    "function moving{T}(ta::TimeArray{T,2}, f::Function, window::Int; padding::Bool=false)\n",
    "    tstamps = padding ? ta.timestamp : ta.timestamp[window:end]\n",
    "    vals    = zeros(ta.values[window:end, :])\n",
    "    @inbounds for i=1:size(vals,1), j=1:size(vals, 2)\n",
    "        vals[i, j] = f(ta.values[i:i+(window-1), j])\n",
    "    end\n",
    "    padding && (vals = [NaN*ones(ta.values[1:(window-1), :]); vals])\n",
    "    TimeArray(tstamps, vals, ta.colnames, ta.meta)\n",
    "end"
   ]
  },
  {
   "cell_type": "code",
   "execution_count": null,
   "metadata": {
    "collapsed": false,
    "deletable": true,
    "editable": true
   },
   "outputs": [],
   "source": [
    "#Nice, ya podemos tomar promedios en ventanas de tamaño N = 10\n",
    "moving(ohlc,mean,10)"
   ]
  },
  {
   "cell_type": "code",
   "execution_count": null,
   "metadata": {
    "collapsed": false,
    "deletable": true,
    "editable": true
   },
   "outputs": [],
   "source": [
    "fs = (:mean)\n",
    "\n",
    "for f in fs\n",
    "@eval ($f) = moving(ohlc,$f,10)\n",
    "end"
   ]
  },
  {
   "cell_type": "code",
   "execution_count": null,
   "metadata": {
    "collapsed": true,
    "deletable": true,
    "editable": true
   },
   "outputs": [],
   "source": [
    "# Aquí se van a desarrollar las funciones estrategia"
   ]
  },
  {
   "cell_type": "code",
   "execution_count": null,
   "metadata": {
    "collapsed": true,
    "deletable": true,
    "editable": true
   },
   "outputs": [],
   "source": []
  }
 ],
 "metadata": {
  "kernelspec": {
   "display_name": "Julia 0.5.1",
   "language": "julia",
   "name": "julia-0.5"
  },
  "language_info": {
   "file_extension": ".jl",
   "mimetype": "application/julia",
   "name": "julia",
   "version": "0.5.1"
  }
 },
 "nbformat": 4,
 "nbformat_minor": 2
}
