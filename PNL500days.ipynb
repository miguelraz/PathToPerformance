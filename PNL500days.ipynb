{
 "cells": [
  {
   "cell_type": "markdown",
   "metadata": {
    "deletable": true,
    "editable": true
   },
   "source": [
    "### Field report: PNL and hit rate analysis for 5 basic strategies.\n",
    "### 17/03/17- v0.1\n",
    "#### por mrg"
   ]
  },
  {
   "cell_type": "code",
   "execution_count": null,
   "metadata": {
    "collapsed": true,
    "deletable": true,
    "editable": true
   },
   "outputs": [],
   "source": []
  },
  {
   "cell_type": "code",
   "execution_count": 130,
   "metadata": {
    "collapsed": true,
    "deletable": true,
    "editable": true
   },
   "outputs": [
    {
     "name": "stderr",
     "output_type": "stream",
     "text": [
      "\u001b[1m\u001b[34mINFO: Nothing to be done\n",
      "\u001b[0m\u001b[1m\u001b[34mINFO: Nothing to be done\n",
      "\u001b[0m\u001b[1m\u001b[34mINFO: Nothing to be done\n",
      "\u001b[0m\u001b[1m\u001b[34mINFO: Nothing to be done\n",
      "\u001b[0m\u001b[1m\u001b[34mINFO: Nothing to be done\n",
      "\u001b[0m\u001b[1m\u001b[34mINFO: No packages to install, update or remove\n",
      "\u001b[0m\u001b[1m\u001b[34mINFO: Package database updated\n",
      "\u001b[0m\u001b[1m\u001b[34mINFO: Updating METADATA...\n",
      "\u001b[0m\u001b[1m\u001b[34mINFO: Updating cache of DataFrames...\n",
      "\u001b[0m\u001b[1m\u001b[34mINFO: Updating cache of DataFrames...\n",
      "\u001b[0m\u001b[1m\u001b[34mINFO: Updating OhMyREPL master...\n",
      "\u001b[0m\u001b[1m\u001b[34mINFO: Updating Atom master...\n",
      "\u001b[0m\u001b[1m\u001b[34mINFO: Updating Tokenize master...\n",
      "\u001b[0m\u001b[1m\u001b[34mINFO: Computing changes...\n",
      "\u001b[0m\u001b[1m\u001b[34mINFO: No packages to install, update or remove\n",
      "\u001b[0m"
     ]
    },
    {
     "ename": "LoadError",
     "evalue": "Update finished with errors.\n=> Package DataFrames: unable to update cache.\nGitError(Code:ERROR, Class:OS, Failed to receive response: The server returned an invalid or unrecognized response\r\n)\n in macro expansion at .\\libgit2\\error.jl:99 [inlined]\n in #fetch#55(::Base.LibGit2.FetchOptions, ::String, ::Function, ::Base.LibGit2.GitRemote, ::Array{AbstractString,1}) at .\\libgit2\\remote.jl:70\n in (::Base.LibGit2.#kw##fetch)(::Array{Any,1}, ::Base.LibGit2.#fetch, ::Base.LibGit2.GitRemote, ::Array{AbstractString,1}) at .\\<missing>:0\n in #fetch#96(::String, ::String, ::Array{AbstractString,1}, ::Nullable{Base.LibGit2.AbstractCredentials}, ::Function, ::Base.LibGit2.GitRepo) at .\\libgit2\\libgit2.jl:164\n in fetch(::Base.LibGit2.GitRepo) at .\\libgit2\\libgit2.jl:156\n in prefetch(::String, ::String, ::Array{String,1}) at .\\pkg\\cache.jl:64\n in update(::String, ::Set{String}) at .\\pkg\\entry.jl:403\n in (::Base.Pkg.Dir.##2#3{Array{Any,1},Base.Pkg.Entry.#update,Tuple{String,Set{String}}})() at .\\pkg\\dir.jl:31\n in cd(::Base.Pkg.Dir.##2#3{Array{Any,1},Base.Pkg.Entry.#update,Tuple{String,Set{String}}}, ::String) at .\\file.jl:48\n in #cd#1(::Array{Any,1}, ::Function, ::Function, ::String, ::Vararg{Any,N}) at .\\pkg\\dir.jl:31\n in update() at .\\pkg\\pkg.jl:210\n in include_string(::String, ::String) at .\\loading.jl:441\n in execute_request(::ZMQ.Socket, ::IJulia.Msg) at C:\\Users\\miguel\\.julia\\v0.5\\IJulia\\src\\execute_request.jl:157\n in eventloop(::ZMQ.Socket) at C:\\Users\\miguel\\.julia\\v0.5\\IJulia\\src\\eventloop.jl:8\n in (::IJulia.##13#19)() at .\\task.jl:360",
     "output_type": "error",
     "traceback": [
      "Update finished with errors.\n=> Package DataFrames: unable to update cache.\nGitError(Code:ERROR, Class:OS, Failed to receive response: The server returned an invalid or unrecognized response\r\n)\n in macro expansion at .\\libgit2\\error.jl:99 [inlined]\n in #fetch#55(::Base.LibGit2.FetchOptions, ::String, ::Function, ::Base.LibGit2.GitRemote, ::Array{AbstractString,1}) at .\\libgit2\\remote.jl:70\n in (::Base.LibGit2.#kw##fetch)(::Array{Any,1}, ::Base.LibGit2.#fetch, ::Base.LibGit2.GitRemote, ::Array{AbstractString,1}) at .\\<missing>:0\n in #fetch#96(::String, ::String, ::Array{AbstractString,1}, ::Nullable{Base.LibGit2.AbstractCredentials}, ::Function, ::Base.LibGit2.GitRepo) at .\\libgit2\\libgit2.jl:164\n in fetch(::Base.LibGit2.GitRepo) at .\\libgit2\\libgit2.jl:156\n in prefetch(::String, ::String, ::Array{String,1}) at .\\pkg\\cache.jl:64\n in update(::String, ::Set{String}) at .\\pkg\\entry.jl:403\n in (::Base.Pkg.Dir.##2#3{Array{Any,1},Base.Pkg.Entry.#update,Tuple{String,Set{String}}})() at .\\pkg\\dir.jl:31\n in cd(::Base.Pkg.Dir.##2#3{Array{Any,1},Base.Pkg.Entry.#update,Tuple{String,Set{String}}}, ::String) at .\\file.jl:48\n in #cd#1(::Array{Any,1}, ::Function, ::Function, ::String, ::Vararg{Any,N}) at .\\pkg\\dir.jl:31\n in update() at .\\pkg\\pkg.jl:210\n in include_string(::String, ::String) at .\\loading.jl:441\n in execute_request(::ZMQ.Socket, ::IJulia.Msg) at C:\\Users\\miguel\\.julia\\v0.5\\IJulia\\src\\execute_request.jl:157\n in eventloop(::ZMQ.Socket) at C:\\Users\\miguel\\.julia\\v0.5\\IJulia\\src\\eventloop.jl:8\n in (::IJulia.##13#19)() at .\\task.jl:360",
      "",
      " in update(::String, ::Set{String}) at .\\pkg\\entry.jl:463",
      " in (::Base.Pkg.Dir.##2#3{Array{Any,1},Base.Pkg.Entry.#update,Tuple{String,Set{String}}})() at .\\pkg\\dir.jl:31",
      " in cd(::Base.Pkg.Dir.##2#3{Array{Any,1},Base.Pkg.Entry.#update,Tuple{String,Set{String}}}, ::String) at .\\file.jl:48",
      " in #cd#1(::Array{Any,1}, ::Function, ::Function, ::String, ::Vararg{Any,N}) at .\\pkg\\dir.jl:31",
      " in update() at .\\pkg\\pkg.jl:210"
     ]
    }
   ],
   "source": [
    "#Load packages\n",
    "Pkg.add(\"TimeSeries\");Pkg.add(\"MarketData\");Pkg.add(\"Plots\");Pkg.add(\"PlotlyJS\");\n",
    "Pkg.add(\"Gadfly\");Pkg.add(\"StatsBase\");Pkg.update();"
   ]
  },
  {
   "cell_type": "code",
   "execution_count": 155,
   "metadata": {
    "collapsed": false
   },
   "outputs": [
    {
     "name": "stderr",
     "output_type": "stream",
     "text": [
      "\u001b[1m\u001b[34mINFO: Cloning cache of NetworkLayout from https://github.com/JuliaGraphs/NetworkLayout.jl.git\n",
      "\u001b[0m\u001b[1m\u001b[34mINFO: Cloning cache of PlotRecipes from https://github.com/JuliaPlots/PlotRecipes.jl.git\n",
      "\u001b[0m\u001b[1m\u001b[34mINFO: Cloning cache of StatPlots from https://github.com/JuliaPlots/StatPlots.jl.git\n",
      "\u001b[0m\u001b[1m\u001b[34mINFO: Installing NetworkLayout v0.0.1\n",
      "\u001b[0m\u001b[1m\u001b[34mINFO: Installing PlotRecipes v0.2.0\n",
      "\u001b[0m\u001b[1m\u001b[34mINFO: Installing StatPlots v0.2.1\n",
      "\u001b[0m\u001b[1m\u001b[34mINFO: Building Plots\n",
      "\u001b[0m\u001b[1m\u001b[34mINFO: Building Rmath\n",
      "\u001b[0m\u001b[1m\u001b[34mINFO: Package database updated\n",
      "\u001b[0m"
     ]
    }
   ],
   "source": [
    "Pkg.add(\"PlotRecipes\")"
   ]
  },
  {
   "cell_type": "code",
   "execution_count": 156,
   "metadata": {
    "collapsed": false,
    "deletable": true,
    "editable": true
   },
   "outputs": [
    {
     "name": "stderr",
     "output_type": "stream",
     "text": [
      "\u001b[1m\u001b[34mINFO: Recompiling stale cache file C:\\Users\\miguel\\.julia\\lib\\v0.5\\Distributions.ji for module Distributions.\n",
      "\u001b[0m\u001b[1m\u001b[34mINFO: Recompiling stale cache file C:\\Users\\miguel\\.julia\\lib\\v0.5\\DataFrames.ji for module DataFrames.\n",
      "\u001b[0m\u001b[1m\u001b[34mINFO: Precompiling module KernelDensity.\n",
      "\u001b[0m\u001b[1m\u001b[34mINFO: Precompiling module GeometryTypes.\n",
      "\u001b[0mWARNING: ColorTypes.U8 is deprecated, use FixedPointNumbers.Normed{UInt8, 8} instead.\n",
      "  likely near C:\\Users\\miguel\\.julia\\v0.5\\GeometryTypes\\src\\typealias.jl:90\n",
      "\u001b[1m\u001b[34mINFO: Recompiling stale cache file C:\\Users\\miguel\\.julia\\lib\\v0.5\\LightGraphs.ji for module LightGraphs.\n",
      "\u001b[0m"
     ]
    }
   ],
   "source": [
    "using TimeSeries, MarketData, Plots, PlotlyJS, StatsBase,PlotRecipes;"
   ]
  },
  {
   "cell_type": "code",
   "execution_count": 131,
   "metadata": {
    "collapsed": false,
    "deletable": true,
    "editable": true,
    "scrolled": true
   },
   "outputs": [
    {
     "data": {
      "text/plain": [
       "TimeSeries.TimeArray{Float64,2,Date,Array{Float64,2}}"
      ]
     },
     "execution_count": 131,
     "metadata": {},
     "output_type": "execute_result"
    }
   ],
   "source": [
    "typeof(ohlc)"
   ]
  },
  {
   "cell_type": "code",
   "execution_count": 132,
   "metadata": {
    "collapsed": false,
    "deletable": true,
    "editable": true
   },
   "outputs": [
    {
     "data": {
      "text/plain": [
       "500x4 TimeSeries.TimeArray{Float64,2,Date,Array{Float64,2}} 2000-01-03 to 2001-12-31\n",
       "\n",
       "             Open      High      Low       Close     \n",
       "2000-01-03 | 104.88    112.5     101.69    111.94    \n",
       "2000-01-04 | 108.25    110.62    101.19    102.5     \n",
       "2000-01-05 | 103.75    110.56    103.0     104.0     \n",
       "2000-01-06 | 106.12    107.0     95.0      95.0      \n",
       "⋮\n",
       "2001-12-26 | 21.35     22.3      21.14     21.49     \n",
       "2001-12-27 | 21.58     22.25     21.58     22.07     \n",
       "2001-12-28 | 21.97     23.0      21.96     22.43     \n",
       "2001-12-31 | 22.51     22.66     21.83     21.9      \n"
      ]
     },
     "execution_count": 132,
     "metadata": {},
     "output_type": "execute_result"
    }
   ],
   "source": [
    "ohlc"
   ]
  },
  {
   "cell_type": "code",
   "execution_count": 133,
   "metadata": {
    "collapsed": false,
    "deletable": true,
    "editable": true
   },
   "outputs": [
    {
     "data": {
      "text/plain": [
       "500x1 TimeSeries.TimeArray{Float64,1,Date,Array{Float64,1}} 2000-01-03 to 2001-12-31\n",
       "\n",
       "             Open      \n",
       "2000-01-03 | 104.88    \n",
       "2000-01-04 | 108.25    \n",
       "2000-01-05 | 103.75    \n",
       "2000-01-06 | 106.12    \n",
       "⋮\n",
       "2001-12-26 | 21.35     \n",
       "2001-12-27 | 21.58     \n",
       "2001-12-28 | 21.97     \n",
       "2001-12-31 | 22.51     \n"
      ]
     },
     "execution_count": 133,
     "metadata": {},
     "output_type": "execute_result"
    }
   ],
   "source": [
    "ohlc[\"Open\"]"
   ]
  },
  {
   "cell_type": "code",
   "execution_count": 134,
   "metadata": {
    "collapsed": true,
    "deletable": true,
    "editable": true
   },
   "outputs": [],
   "source": [
    "import TimeSeries.moving"
   ]
  },
  {
   "cell_type": "code",
   "execution_count": 135,
   "metadata": {
    "collapsed": true,
    "deletable": true,
    "editable": true
   },
   "outputs": [
    {
     "name": "stderr",
     "output_type": "stream",
     "text": [
      "WARNING: Method definition moving(TimeSeries.TimeArray{#T<:Any, 1, "
     ]
    },
    {
     "data": {
      "text/plain": [
       "moving (generic function with 2 methods)"
      ]
     },
     "execution_count": 135,
     "metadata": {},
     "output_type": "execute_result"
    }
   ],
   "source": [
    "# Función ventana\n",
    "function moving{T}(ta::TimeArray{T,1}, f::Function, window::Int; padding::Bool=false)\n",
    "    tstamps = padding ? ta.timestamp : ta.timestamp[window:end]\n",
    "    vals    = zeros(ta.values[window:end])\n",
    "    @inbounds for i=1:length(vals)\n",
    "        vals[i] = f(ta.values[i:i+(window-1)])\n",
    "    end\n",
    "    padding && (vals = [NaN*ones(window-1); vals])\n",
    "    TimeArray(tstamps, vals, ta.colnames, ta.meta)\n",
    "end\n",
    "\n",
    "function moving{T}(ta::TimeArray{T,2}, f::Function, window::Int; padding::Bool=false)\n",
    "    tstamps = padding ? ta.timestamp : ta.timestamp[window:end]\n",
    "    vals    = zeros(ta.values[window:end, :])\n",
    "    @inbounds for i=1:size(vals,1), j=1:size(vals, 2)\n",
    "        vals[i, j] = f(ta.values[i:i+(window-1), j])\n",
    "    end\n",
    "    padding && (vals = [NaN*ones(ta.values[1:(window-1), :]); vals])\n",
    "    TimeArray(tstamps, vals, ta.colnames, ta.meta)\n",
    "end"
   ]
  },
  {
   "cell_type": "code",
   "execution_count": 136,
   "metadata": {
    "collapsed": true,
    "deletable": true,
    "editable": true
   },
   "outputs": [
    {
     "name": "stderr",
     "output_type": "stream",
     "text": [
      "D<:Base.Dates.TimeType, A<:AbstractArray}, Function, Int64) in module Main at In[128]:3 overwritten at In[135]:3.\n",
      "WARNING: Method definition #moving("
     ]
    },
    {
     "data": {
      "text/plain": [
       "491x4 TimeSeries.TimeArray{Float64,2,Date,Array{Float64,2}} 2000-01-14 to 2001-12-31\n",
       "\n",
       "             Open      High      Low       Close     \n",
       "2000-01-14 | 100.692   103.981   96.001    98.782    \n",
       "2000-01-18 | 100.304   103.331   95.876    97.982    \n",
       "2000-01-19 | 100.041   103.144   96.095    98.388    \n",
       "2000-01-20 | 101.216   104.238   97.145    99.338    \n",
       "⋮\n",
       "2001-12-26 | 21.062    21.507    20.618    21.065    \n",
       "2001-12-27 | 21.033    21.54     20.651    21.123    \n",
       "2001-12-28 | 21.081    21.685    20.797    21.266    \n",
       "2001-12-31 | 21.259    21.868    20.971    21.417    \n"
      ]
     },
     "execution_count": 136,
     "metadata": {},
     "output_type": "execute_result"
    }
   ],
   "source": [
    "#Nice, ya podemos tomar promedios en ventanas de tamaño N = 10\n",
    "moving(ohlc,mean,10)"
   ]
  },
  {
   "cell_type": "code",
   "execution_count": 139,
   "metadata": {
    "collapsed": false,
    "deletable": true,
    "editable": true
   },
   "outputs": [],
   "source": [
    "# Aquí se van a desarrollar las funciones estrategia"
   ]
  },
  {
   "cell_type": "code",
   "execution_count": 144,
   "metadata": {
    "collapsed": false
   },
   "outputs": [
    {
     "ename": "LoadError",
     "evalue": "MethodError: no method matching psnr(::Array{Float64,1})\u001b[0m\nClosest candidates are:\n  psnr{T<:Real}(::AbstractArray{T<:Real,N}, \u001b[1m\u001b[31m::AbstractArray{T<:Real,N}\u001b[0m, \u001b[1m\u001b[31m::Real\u001b[0m) at C:\\Users\\miguel\\.julia\\v0.5\\StatsBase\\src\\deviation.jl:183\u001b[0m",
     "output_type": "error",
     "traceback": [
      "MethodError: no method matching psnr(::Array{Float64,1})\u001b[0m\nClosest candidates are:\n  psnr{T<:Real}(::AbstractArray{T<:Real,N}, \u001b[1m\u001b[31m::AbstractArray{T<:Real,N}\u001b[0m, \u001b[1m\u001b[31m::Real\u001b[0m) at C:\\Users\\miguel\\.julia\\v0.5\\StatsBase\\src\\deviation.jl:183\u001b[0m",
      "",
      " in #moving#6(::Bool, ::Function, ::TimeSeries.TimeArray{Float64,2,Date,Array{Float64,2}}, ::StatsBase.#psnr, ::Int64) at .\\In[135]:16",
      " in moving(::TimeSeries.TimeArray{Float64,2,Date,Array{Float64,2}}, ::Function, ::Int64) at .\\In[135]:13"
     ]
    }
   ],
   "source": [
    "moving(ohlc,psnr,10)"
   ]
  },
  {
   "cell_type": "code",
   "execution_count": 145,
   "metadata": {
    "collapsed": false
   },
   "outputs": [
    {
     "name": "stdout",
     "output_type": "stream",
     "text": [
      "search: \u001b[1mp\u001b[22m\u001b[1ms\u001b[22m\u001b[1mn\u001b[22m\u001b[1mr\u001b[22m s\u001b[1mp\u001b[22mecialized_bitwi\u001b[1ms\u001b[22me_u\u001b[1mn\u001b[22ma\u001b[1mr\u001b[22my s\u001b[1mp\u001b[22mecialized_bitwi\u001b[1ms\u001b[22me_bi\u001b[1mn\u001b[22ma\u001b[1mr\u001b[22my fli\u001b[1mp\u001b[22m\u001b[1ms\u001b[22mig\u001b[1mn\u001b[22m\n",
      "\n"
     ]
    },
    {
     "data": {
      "text/markdown": [
       "```\n",
       "psnr(a, b, maxv)\n",
       "```\n",
       "\n",
       "Compute the peak signal-to-noise ratio between two arrays `a` and `b`. `maxv` is the maximum possible value either array can take. The PSNR is computed as `10 * log10(maxv^2 / msd(a, b))`.\n"
      ],
      "text/plain": [
       "```\n",
       "psnr(a, b, maxv)\n",
       "```\n",
       "\n",
       "Compute the peak signal-to-noise ratio between two arrays `a` and `b`. `maxv` is the maximum possible value either array can take. The PSNR is computed as `10 * log10(maxv^2 / msd(a, b))`.\n"
      ]
     },
     "execution_count": 145,
     "metadata": {},
     "output_type": "execute_result"
    }
   ],
   "source": [
    "?psnr"
   ]
  },
  {
   "cell_type": "code",
   "execution_count": 149,
   "metadata": {
    "collapsed": true
   },
   "outputs": [
    {
     "name": "stderr",
     "output_type": "stream",
     "text": [
      "WARNING: using TimeSeries.from in module Main conflicts with an existing identifier.\n",
      "WARNING: using TimeSeries.colnames in module Main conflicts with an existing identifier.\n",
      "WARNING: using TimeSeries.update in module Main conflicts with an existing identifier.\n",
      "WARNING: using TimeSeries.lag in module Main conflicts with an existing identifier.\n",
      "WARNING: using TimeSeries.dropnan in module Main conflicts with an existing identifier.\n",
      "WARNING: using TimeSeries.to in module Main conflicts with an existing identifier.\n",
      "WARNING: using TimeSeries.moving in module Main conflicts with an existing identifier.\n",
      "WARNING: using TimeSeries.collapse in module Main conflicts with an existing identifier.\n",
      "WARNING: using TimeSeries.findall in module Main conflicts with an existing identifier.\n",
      "WARNING: using TimeSeries.readtimearray in module Main conflicts with an existing identifier.\n",
      "WARNING: using TimeSeries.upto in module Main conflicts with an existing identifier.\n",
      "WARNING: using TimeSeries.meta in module Main conflicts with an existing identifier.\n",
      "WARNING: using TimeSeries.percentchange in module Main conflicts with an existing identifier.\n",
      "WARNING: using TimeSeries.uniformspaced in module Main conflicts with an existing identifier.\n",
      "WARNING: using TimeSeries.TimeArray in module Main conflicts with an existing identifier.\n",
      "WARNING: using TimeSeries.tail in module Main conflicts with an existing identifier.\n",
      "WARNING: using TimeSeries.head in module Main conflicts with an existing identifier.\n",
      "WARNING: using TimeSeries.findwhen in module Main conflicts with an existing identifier.\n",
      "WARNING: using TimeSeries.uniformspace in module Main conflicts with an existing identifier.\n",
      "WARNING: using TimeSeries.timestamp in module Main conflicts with an existing identifier.\n",
      "WARNING: using TimeSeries.by in module Main conflicts with an existing identifier.\n",
      "WARNING: using TimeSeries.AbstractTimeSeries in module Main conflicts with an existing identifier.\n",
      "WARNING: using TimeSeries.lead in module Main conflicts with an existing identifier.\n",
      "WARNING: using TimeSeries.basecall in module Main conflicts with an existing identifier.\n",
      "WARNING: using TimeSeries.rename in module Main conflicts with an existing identifier.\n",
      "WARNING: using TimeSeries.when in module Main conflicts with an existing identifier.\n",
      "WARNING: using TimeSeries.writetimearray in module Main conflicts with an existing identifier.\n"
     ]
    }
   ],
   "source": [
    "using TimeSeries"
   ]
  },
  {
   "cell_type": "code",
   "execution_count": 150,
   "metadata": {
    "collapsed": true
   },
   "outputs": [],
   "source": [
    "@recipe function f{T<:TimeArray}(ta::T)\n",
    "    st = get(d, :seriestype, :path)\n",
    "    if in(st, [:candlestick, :heikinashi])\n",
    "        Candlestick(ta)\n",
    "    #elseif st == :ohlc #ohlc (meaning sticks with steps on the sides) should be passed on to Plots internal ohlc plot engine\n",
    "    #    ta, ohlc = extract_ohlc(ta)\n",
    "    #    collect(zip(ohlc)) # But there are currently issues with that\n",
    "    else\n",
    "        labels --> reshape(ta.colnames,1,length(ta.colnames))\n",
    "        seriestype := st\n",
    "        ta.timestamp, ta.values\n",
    "    end\n",
    "end\n",
    "\n",
    "type Candlestick{D <: TimeType}\n",
    "    time::Vector{D}\n",
    "    open::AbstractVector\n",
    "    high::AbstractVector\n",
    "    low::AbstractVector\n",
    "    close::AbstractVector\n",
    "end\n",
    "\n",
    "Candlestick(ta::TimeArray) = Candlestick(extract_ohlc(ta)...)\n",
    "\n",
    "function extract_ohlc(ta::TimeArray)\n",
    "    indices = [find(x->lowercase(x) == name, ta.colnames) for name in [\"open\", \"high\", \"low\", \"close\"]]\n",
    "    minimum(length.(indices)) < 1 && error(\"The time array did not have variables named open, high, low and close\")\n",
    "    (ta.timestamp, [ta.values[:,i] for i in 1:4]...)\n",
    "end\n",
    "\n",
    "function HeikinAshi!(cs::Candlestick) #some values here are made too high!\n",
    "    cs.close[1] = (cs.open[1] + cs.low[1] + cs.close[1] + cs.high[1]) / 4\n",
    "    cs.open[1] = (cs.open[1] + cs.close[1])/2\n",
    "    cs.high[1] = cs.high[1]\n",
    "    cs.low[1] = cs.low[1]\n",
    "\n",
    "    for i in 2:length(cs.open)\n",
    "        cs.close[i] = (cs.open[i] + cs.low[i] + cs.close[i] + cs.high[i]) / 4\n",
    "        cs.open[i] = (cs.open[i-1] + cs.close[i-1]) / 2\n",
    "        cs.high[i] = maximum([cs.high[i], cs.open[i], cs.close[i]])\n",
    "        cs.low[i] = minimum([cs.low[i], cs.open[i], cs.close[i]])\n",
    "    end\n",
    "end\n",
    "\n",
    "@recipe function f(cs::Candlestick)\n",
    "    st = get(d, :seriestype, :candlestick)\n",
    "    st == :heikinashi && HeikinAshi!(cs)\n",
    "\n",
    "    seriestype := :candlestick\n",
    "    legend --> false\n",
    "    linewidth --> 0.7\n",
    "    grid --> false\n",
    "\n",
    "    bw = get(d, :bar_width, nothing)\n",
    "    bw == nothing && (bw = 0.8)\n",
    "    bar_width := bw / 2 * minimum(diff(unique(Int.(cs.time))))\n",
    "\n",
    "    # allow passing alternative colors as a vector\n",
    "    cols = get(d, :seriescolor, nothing)\n",
    "    cols = (isa(cols, Vector{Symbol}) && length(cols) == 2) ? cols : [:red, :blue]\n",
    "\n",
    "    attributes = [\n",
    "        Dict(:close_open => <, :close_prev => <, :bottombox => cs.close, :topbox => cs.open, :fill => cols[1], :line => cols[1], :fillalpha => 1),\n",
    "        Dict(:close_open => <, :close_prev => >=, :bottombox => cs.close, :topbox => cs.open, :fill => cols[2], :line => cols[2], :fillalpha => 1),\n",
    "        Dict(:close_open => >=, :close_prev => <, :bottombox => cs.open, :topbox => cs.close, :fill => :white, :line => cols[1], :fillalpha => 0),\n",
    "        Dict(:close_open => >=, :close_prev => >=, :bottombox => cs.open, :topbox => cs.close, :fill => :white, :line => cols[2], :fillalpha => 0)\n",
    "    ]\n",
    "\n",
    "\n",
    "    for att in attributes\n",
    "        inds = Vector{Int}(length(cs.close))\n",
    "        inds[1] = att[:close_open](cs.close[1], cs.open[1]) & att[:close_prev](cs.close[1], cs.close[1])\n",
    "        inds[2:end] .= att[:close_open].(cs.close[2:end], cs.open[2:end]) & att[:close_prev].(diff(cs.close), 0)\n",
    "        inds = find(inds)\n",
    "\n",
    "        if length(inds) > 0\n",
    "            @series begin\n",
    "                linecolor := att[:line]\n",
    "                fillcolor := att[:fill]\n",
    "                fillalpha := att[:fillalpha]\n",
    "                fillto := att[:bottombox][inds]\n",
    "                seriestype := :bar\n",
    "                cs.time[inds], att[:topbox][inds]\n",
    "            end\n",
    "\n",
    "            for j in 1:2\n",
    "                @series begin\n",
    "                    primary := false\n",
    "                    linecolor := att[:line]\n",
    "                    seriestype := :sticks\n",
    "                    fillto := j == 1 ? cs.low[inds] : att[:topbox][inds]\n",
    "                    cs.time[inds], j == 1 ? att[:bottombox][inds] : cs.high[inds]\n",
    "                end\n",
    "            end\n",
    "        end\n",
    "    end\n",
    "end"
   ]
  },
  {
   "cell_type": "code",
   "execution_count": 154,
   "metadata": {
    "collapsed": false
   },
   "outputs": [
    {
     "ename": "LoadError",
     "evalue": "Must wrap a valid function call!",
     "output_type": "error",
     "traceback": [
      "Must wrap a valid function call!",
      ""
     ]
    }
   ],
   "source": [
    "@recipe Candlestick(ohlc)"
   ]
  },
  {
   "cell_type": "code",
   "execution_count": null,
   "metadata": {
    "collapsed": true
   },
   "outputs": [],
   "source": []
  },
  {
   "cell_type": "code",
   "execution_count": 152,
   "metadata": {
    "collapsed": false
   },
   "outputs": [
    {
     "data": {
      "text/html": [
       "<div id=\"518cf98f-33bb-412a-b625-4a1919197ad5\" class=\"plotly-graph-div\"></div>\n",
       "\n",
       "<script>\n",
       "    window.PLOTLYENV=window.PLOTLYENV || {};\n",
       "    window.PLOTLYENV.BASE_URL=\"https://plot.ly\";\n",
       "    require(['plotly'], function(Plotly) {\n",
       "        Plotly.newPlot('518cf98f-33bb-412a-b625-4a1919197ad5', [{\"yaxis\":\"y\",\"y\":[108.25,106.12,102.0,95.94,95.0,114.25,108.44,108.19,104.0,100.75,114.12,113.62,117.75,114.62,117.31,114.81,127.0,126.0,126.44,122.88,122.12,121.22,123.5,142.0,142.44,139.38,133.56,135.5,132.62,130.62,131.69,123.5,119.0,126.19,123.69,126.62,127.12,123.25,118.94,115.12,112.09,110.31,104.06,108.06,103.62,103.0,99.25,93.75,90.5,88.5,88.0,86.88,93.31,97.62,96.38,94.69,93.5,55.75,53.78,53.78,53.06,53.25,57.0,58.5,58.5,55.19,54.36,52.56,52.28,50.31,49.0,49.47,47.94,47.59,47.25,51.38,62.66,61.38,61.62,58.69,58.56,57.75,58.5,53.31,51.75,28.19,26.69,24.94,23.5,22.62,21.62,20.12,22.31,21.69,19.16,20.69,19.06,23.0,22.44,21.5,21.38,19.36,20.03,19.5,19.19,19.19,18.81,19.88,18.69,18.09,16.69,17.19,14.62,15.56,15.03,14.56,14.38,14.25,14.88,16.94,16.69,17.88,17.44,17.56,20.56,21.12,20.5,20.5,19.94,19.19,19.06,19.38,21.31,20.62,19.69,20.88,20.72,23.13,22.55,22.09,21.36,19.76,20.8,20.69,22.98,22.09,21.2,24.34,24.33,25.17,26.7,25.97,25.62,25.35,24.14,24.21,23.01,23.37,24.23,24.0,23.75,23.29,23.2,22.32,20.76,21.08,20.93,21.65,21.05,20.04,20.41,20.85,22.48,23.83,23.66,23.6,22.76,22.95,24.88,21.78,21.23,20.09,19.39,19.12,19.12,19.27,19.89,19.26,19.04,19.2,18.76,18.14,18.2,18.9,18.44,18.5,18.4,17.5,16.9,16.29,16.14,15.81,15.43,16.05,18.34,19.12,18.86,18.57,17.73,19.63,19.27,19.82,21.2,20.85,20.6,21.06,23.48,22.67,21.87,21.49,20.73,21.4,22.51],\"showlegend\":true,\"name\":\"y1\",\"type\":\"bar\",\"xaxis\":\"x\",\"orientation\":\"v\",\"x\":[730123,730125,730129,730130,730131,730140,730143,730147,730151,730152,730159,730161,730166,730168,730174,730175,730181,730185,730186,730187,730192,730193,730199,730202,730203,730208,730209,730213,730214,730216,730220,730221,730222,730229,730230,730236,730238,730242,730243,730244,730248,730249,730250,730255,730257,730258,730259,730262,730263,730265,730266,730271,730276,730279,730283,730285,730287,730293,730294,730298,730300,730306,730312,730314,730319,730320,730322,730325,730329,730333,730334,730336,730340,730346,730347,730350,730368,730369,730371,730374,730377,730378,730384,730389,730390,730392,730395,730396,730398,730402,730403,730404,730409,730410,730412,730417,730418,730427,730430,730431,730432,730434,730439,730440,730441,730445,730446,730451,730452,730453,730454,730458,730460,730467,730468,730469,730473,730475,730480,730490,730495,730497,730501,730502,730510,730518,730521,730525,730529,730536,730538,730544,730551,730553,730556,730559,730564,730570,730574,730577,730578,730579,730581,730584,730586,730591,730592,730598,730599,730601,730605,730608,730612,730613,730614,730615,730616,730620,730622,730627,730628,730629,730630,730634,730635,730640,730642,730644,730647,730650,730654,730655,730658,730663,730665,730671,730672,730676,730682,730684,730685,730689,730690,730691,730696,730697,730700,730705,730707,730711,730712,730718,730720,730725,730726,730732,730734,730735,730746,730748,730753,730754,730760,730767,730775,730781,730784,730787,730789,730797,730805,730809,730816,730817,730818,730822,730825,730830,730831,730832,730833,730839,730850],\"marker\":{\"color\":\"rgba(255, 0, 0, 1.000)\"}},{\"yaxis\":\"y\",\"y\":[101.19,102.5,null,95.0,95.0,null,94.75,97.75,null,90.5,92.75,null,86.5,87.19,null,110.19,111.31,null,105.12,106.25,null,100.62,101.62,null,100.0,100.25,null,97.0,98.81,null,112.44,112.62,null,108.25,108.75,null,112.12,114.12,null,110.88,111.25,null,111.75,115.2,null,110.12,110.38,null,120.69,122.0,null,125.0,125.69,null,121.12,122.88,null,118.56,122.0,null,119.5,121.31,null,114.0,114.25,null,122.38,123.0,null,140.0,141.31,null,135.5,138.69,null,133.83,135.94,null,125.44,125.75,null,129.44,133.31,null,116.75,127.31,null,123.25,125.19,null,124.75,125.0,null,118.06,119.44,null,104.88,109.25,null,119.75,121.12,null,117.06,118.88,null,120.0,121.31,null,121.31,124.06,null,117.5,117.88,null,111.62,115.06,null,110.56,110.69,null,110.0,110.12,null,104.88,105.44,null,98.75,99.31,null,100.12,101.0,null,100.38,101.38,null,100.62,100.75,null,93.38,94.0,null,86.0,89.94,null,85.62,85.81,null,86.0,87.27,null,85.25,86.38,null,83.81,84.0,null,89.69,91.31,null,93.12,94.81,null,90.88,91.19,null,90.12,90.44,null,89.06,91.19,null,53.56,53.75,null,50.81,51.69,null,51.62,51.75,null,51.06,51.25,null,50.75,51.62,null,55.44,56.94,null,54.75,56.5,null,56.88,57.25,null,51.75,52.69,null,52.94,53.56,null,47.5,48.69,null,46.88,48.31,null,49.25,49.31,null,47.19,47.25,null,46.31,47.38,null,46.31,46.75,null,46.31,47.06,null,46.5,46.69,null,49.88,50.0,null,62.25,62.44,null,57.75,58.44,null,58.5,58.88,null,58.12,58.44,null,56.81,56.86,null,54.25,55.23,null,55.25,56.69,null,51.38,51.44,null,48.25,48.94,null,25.38,25.75,null,23.5,24.25,null,22.19,22.31,null,22.0,22.06,null,21.12,21.75,null,20.5,20.88,null,19.12,19.62,null,21.38,21.5,null,19.69,20.12,null,18.31,18.94,null,18.81,18.88,null,18.44,18.5,null,21.94,22.25,null,20.88,21.44,null,20.81,21.31,null,19.81,20.06,null,19.06,19.06,null,19.25,19.88,null,18.88,19.0,null,18.25,18.5,null,18.75,18.81,null,18.38,18.5,null,18.5,18.69,null,17.94,18.03,null,17.25,17.56,null,16.12,16.5,null,16.44,16.69,null,14.0,14.31,null,14.88,15.0,null,14.44,14.44,null,14.0,14.06,null,14.0,14.0,null,13.88,14.06,null,14.25,14.69,null,16.06,16.38,null,16.06,16.56,null,17.06,17.19,null,17.0,17.12,null,16.5,16.81,null,19.75,19.94,null,20.5,20.62,null,19.75,20.19,null,18.69,19.12,null,19.0,19.12,null,18.19,18.31,null,18.0,18.81,null,18.12,18.25,null,20.75,21.25,null,20.0,20.25,null,18.12,18.62,null,19.69,19.69,null,19.69,19.69,null,21.13,21.78,null,21.34,22.07,null,21.4,21.59,null,20.13,20.24,null,18.75,19.5,null,19.9,20.59,null,20.06,20.54,null,21.28,21.8,null,20.86,21.44,null,19.6,20.4,null,24.0,24.25,null,23.51,24.03,null,24.68,24.69,null,24.87,25.49,null,24.73,24.96,null,24.84,24.96,null,23.95,24.57,null,23.67,23.98,null,22.95,23.0,null,22.76,22.85,null,23.04,23.18,null,23.25,23.55,null,23.4,23.5,null,22.86,23.23,null,22.62,23.2,null,22.5,22.76,null,20.81,21.47,null,19.3,19.78,null,20.46,20.66,null,20.33,20.73,null,20.71,21.32,null,19.95,20.04,null,19.77,19.88,null,20.0,20.33,null,20.01,20.19,null,21.76,22.26,null,22.5,23.34,null,23.2,23.25,null,23.01,23.19,null,21.72,22.03,null,20.84,21.14,null,23.91,23.96,null,20.42,20.79,null,19.75,19.96,null,19.51,19.54,null,18.73,19.09,null,17.97,18.47,null,18.51,18.93,null,18.51,18.79,null,19.0,19.5,null,18.54,18.9,null,18.59,19.02,null,18.67,18.73,null,18.2,18.44,null,17.7,17.92,null,17.58,17.81,null,18.4,18.4,null,17.83,17.83,null,18.18,18.25,null,17.65,17.72,null,17.2,17.28,null,16.17,16.28,null,15.5,15.68,null,15.35,15.54,null,14.93,15.15,null,14.88,15.05,null,15.63,16.0,null,16.96,16.99,null,17.87,18.14,null,18.62,18.67,null,17.6,17.63,null,17.44,17.56,null,18.57,18.71,null,18.4,18.97,null,19.5,19.53,null,20.5,21.0,null,20.41,20.53,null,20.19,20.42,null,20.6,21.05,null,22.14,22.78,null,21.65,21.78,null,21.25,21.49,null,20.5,21.0,null,20.09,20.39,null,20.62,20.67,null,21.83,21.9,null],\"showlegend\":false,\"name\":\"y2\",\"type\":\"scatter\",\"xaxis\":\"x\",\"line\":{\"width\":0.7,\"dash\":\"solid\",\"color\":\"rgba(255, 0, 0, 1.000)\",\"shape\":\"linear\"},\"x\":[730123.0,730123.0,null,730125.0,730125.0,null,730129.0,730129.0,null,730130.0,730130.0,null,730131.0,730131.0,null,730140.0,730140.0,null,730143.0,730143.0,null,730147.0,730147.0,null,730151.0,730151.0,null,730152.0,730152.0,null,730159.0,730159.0,null,730161.0,730161.0,null,730166.0,730166.0,null,730168.0,730168.0,null,730174.0,730174.0,null,730175.0,730175.0,null,730181.0,730181.0,null,730185.0,730185.0,null,730186.0,730186.0,null,730187.0,730187.0,null,730192.0,730192.0,null,730193.0,730193.0,null,730199.0,730199.0,null,730202.0,730202.0,null,730203.0,730203.0,null,730208.0,730208.0,null,730209.0,730209.0,null,730213.0,730213.0,null,730214.0,730214.0,null,730216.0,730216.0,null,730220.0,730220.0,null,730221.0,730221.0,null,730222.0,730222.0,null,730229.0,730229.0,null,730230.0,730230.0,null,730236.0,730236.0,null,730238.0,730238.0,null,730242.0,730242.0,null,730243.0,730243.0,null,730244.0,730244.0,null,730248.0,730248.0,null,730249.0,730249.0,null,730250.0,730250.0,null,730255.0,730255.0,null,730257.0,730257.0,null,730258.0,730258.0,null,730259.0,730259.0,null,730262.0,730262.0,null,730263.0,730263.0,null,730265.0,730265.0,null,730266.0,730266.0,null,730271.0,730271.0,null,730276.0,730276.0,null,730279.0,730279.0,null,730283.0,730283.0,null,730285.0,730285.0,null,730287.0,730287.0,null,730293.0,730293.0,null,730294.0,730294.0,null,730298.0,730298.0,null,730300.0,730300.0,null,730306.0,730306.0,null,730312.0,730312.0,null,730314.0,730314.0,null,730319.0,730319.0,null,730320.0,730320.0,null,730322.0,730322.0,null,730325.0,730325.0,null,730329.0,730329.0,null,730333.0,730333.0,null,730334.0,730334.0,null,730336.0,730336.0,null,730340.0,730340.0,null,730346.0,730346.0,null,730347.0,730347.0,null,730350.0,730350.0,null,730368.0,730368.0,null,730369.0,730369.0,null,730371.0,730371.0,null,730374.0,730374.0,null,730377.0,730377.0,null,730378.0,730378.0,null,730384.0,730384.0,null,730389.0,730389.0,null,730390.0,730390.0,null,730392.0,730392.0,null,730395.0,730395.0,null,730396.0,730396.0,null,730398.0,730398.0,null,730402.0,730402.0,null,730403.0,730403.0,null,730404.0,730404.0,null,730409.0,730409.0,null,730410.0,730410.0,null,730412.0,730412.0,null,730417.0,730417.0,null,730418.0,730418.0,null,730427.0,730427.0,null,730430.0,730430.0,null,730431.0,730431.0,null,730432.0,730432.0,null,730434.0,730434.0,null,730439.0,730439.0,null,730440.0,730440.0,null,730441.0,730441.0,null,730445.0,730445.0,null,730446.0,730446.0,null,730451.0,730451.0,null,730452.0,730452.0,null,730453.0,730453.0,null,730454.0,730454.0,null,730458.0,730458.0,null,730460.0,730460.0,null,730467.0,730467.0,null,730468.0,730468.0,null,730469.0,730469.0,null,730473.0,730473.0,null,730475.0,730475.0,null,730480.0,730480.0,null,730490.0,730490.0,null,730495.0,730495.0,null,730497.0,730497.0,null,730501.0,730501.0,null,730502.0,730502.0,null,730510.0,730510.0,null,730518.0,730518.0,null,730521.0,730521.0,null,730525.0,730525.0,null,730529.0,730529.0,null,730536.0,730536.0,null,730538.0,730538.0,null,730544.0,730544.0,null,730551.0,730551.0,null,730553.0,730553.0,null,730556.0,730556.0,null,730559.0,730559.0,null,730564.0,730564.0,null,730570.0,730570.0,null,730574.0,730574.0,null,730577.0,730577.0,null,730578.0,730578.0,null,730579.0,730579.0,null,730581.0,730581.0,null,730584.0,730584.0,null,730586.0,730586.0,null,730591.0,730591.0,null,730592.0,730592.0,null,730598.0,730598.0,null,730599.0,730599.0,null,730601.0,730601.0,null,730605.0,730605.0,null,730608.0,730608.0,null,730612.0,730612.0,null,730613.0,730613.0,null,730614.0,730614.0,null,730615.0,730615.0,null,730616.0,730616.0,null,730620.0,730620.0,null,730622.0,730622.0,null,730627.0,730627.0,null,730628.0,730628.0,null,730629.0,730629.0,null,730630.0,730630.0,null,730634.0,730634.0,null,730635.0,730635.0,null,730640.0,730640.0,null,730642.0,730642.0,null,730644.0,730644.0,null,730647.0,730647.0,null,730650.0,730650.0,null,730654.0,730654.0,null,730655.0,730655.0,null,730658.0,730658.0,null,730663.0,730663.0,null,730665.0,730665.0,null,730671.0,730671.0,null,730672.0,730672.0,null,730676.0,730676.0,null,730682.0,730682.0,null,730684.0,730684.0,null,730685.0,730685.0,null,730689.0,730689.0,null,730690.0,730690.0,null,730691.0,730691.0,null,730696.0,730696.0,null,730697.0,730697.0,null,730700.0,730700.0,null,730705.0,730705.0,null,730707.0,730707.0,null,730711.0,730711.0,null,730712.0,730712.0,null,730718.0,730718.0,null,730720.0,730720.0,null,730725.0,730725.0,null,730726.0,730726.0,null,730732.0,730732.0,null,730734.0,730734.0,null,730735.0,730735.0,null,730746.0,730746.0,null,730748.0,730748.0,null,730753.0,730753.0,null,730754.0,730754.0,null,730760.0,730760.0,null,730767.0,730767.0,null,730775.0,730775.0,null,730781.0,730781.0,null,730784.0,730784.0,null,730787.0,730787.0,null,730789.0,730789.0,null,730797.0,730797.0,null,730805.0,730805.0,null,730809.0,730809.0,null,730816.0,730816.0,null,730817.0,730817.0,null,730818.0,730818.0,null,730822.0,730822.0,null,730825.0,730825.0,null,730830.0,730830.0,null,730831.0,730831.0,null,730832.0,730832.0,null,730833.0,730833.0,null,730839.0,730839.0,null,730850.0,730850.0,null],\"mode\":\"lines\"},{\"yaxis\":\"y\",\"y\":[108.25,110.62,null,106.12,107.0,null,102.0,102.25,null,95.94,99.38,null,95.0,95.5,null,114.25,114.25,null,108.44,112.75,null,108.19,110.88,null,104.0,105.0,null,100.75,102.12,null,114.12,117.12,null,113.62,114.12,null,117.75,118.12,null,114.62,115.38,null,117.31,119.12,null,114.81,117.0,null,127.0,127.94,null,126.0,129.12,null,126.44,127.44,null,122.88,123.94,null,122.12,126.5,null,121.22,124.25,null,123.5,126.25,null,142.0,150.38,null,142.44,143.94,null,139.38,139.44,null,133.56,137.69,null,135.5,139.5,null,132.62,133.0,null,130.62,134.5,null,131.69,132.75,null,123.5,124.88,null,119.0,119.0,null,126.19,130.25,null,123.69,124.75,null,126.62,128.0,null,127.12,127.5,null,123.25,126.25,null,118.94,121.25,null,115.12,115.25,null,112.09,113.69,null,110.31,111.25,null,104.06,105.0,null,108.06,108.06,null,103.62,103.69,null,103.0,104.94,null,99.25,99.25,null,93.75,93.75,null,90.5,93.38,null,88.5,92.66,null,88.0,89.88,null,86.88,91.25,null,93.31,95.25,null,97.62,98.5,null,96.38,96.44,null,94.69,96.25,null,93.5,93.75,null,55.75,57.62,null,53.78,54.62,null,53.78,55.5,null,53.06,53.94,null,53.25,55.19,null,57.0,59.25,null,58.5,60.62,null,58.5,58.88,null,55.19,56.81,null,54.36,55.62,null,52.56,52.88,null,52.28,52.5,null,50.31,51.16,null,49.0,49.94,null,49.47,51.25,null,47.94,48.0,null,47.59,47.69,null,47.25,47.94,null,51.38,51.81,null,62.66,64.12,null,61.38,62.38,null,61.62,61.62,null,58.69,60.38,null,58.56,59.62,null,57.75,58.19,null,58.5,59.62,null,53.31,54.75,null,51.75,52.75,null,28.19,29.0,null,26.69,26.75,null,24.94,25.0,null,23.5,24.5,null,22.62,22.88,null,21.62,22.44,null,20.12,21.0,null,22.31,23.25,null,21.69,21.94,null,19.16,19.81,null,20.69,20.88,null,19.06,19.19,null,23.0,23.0,null,22.44,22.62,null,21.5,21.81,null,21.38,21.44,null,19.36,19.88,null,20.03,20.19,null,19.5,19.81,null,19.19,19.25,null,19.19,19.5,null,18.81,19.12,null,19.88,19.94,null,18.69,19.0,null,18.09,18.31,null,16.69,17.0,null,17.19,17.19,null,14.62,15.0,null,15.56,15.56,null,15.03,15.25,null,14.56,14.69,null,14.38,15.25,null,14.25,15.0,null,14.88,15.0,null,16.94,17.38,null,16.69,17.0,null,17.88,18.0,null,17.44,18.25,null,17.56,17.56,null,20.56,20.56,null,21.12,21.94,null,20.5,20.56,null,20.5,20.81,null,19.94,20.44,null,19.19,19.44,null,19.06,19.38,null,19.38,19.44,null,21.31,21.62,null,20.62,20.69,null,19.69,19.88,null,20.88,21.38,null,20.72,20.94,null,23.13,23.75,null,22.55,22.72,null,22.09,22.66,null,21.36,21.4,null,19.76,20.25,null,20.8,21.04,null,20.69,21.34,null,22.98,23.0,null,22.09,22.4,null,21.2,21.21,null,24.34,25.0,null,24.33,24.75,null,25.17,26.1,null,26.7,27.12,null,25.97,26.25,null,25.62,25.76,null,25.35,25.45,null,24.14,24.55,null,24.21,24.5,null,23.01,23.49,null,23.37,25.5,null,24.23,24.33,null,24.0,24.13,null,23.75,23.75,null,23.29,23.3,null,23.2,23.29,null,22.32,22.5,null,20.76,20.76,null,21.08,21.11,null,20.93,20.93,null,21.65,21.65,null,21.05,21.07,null,20.04,20.45,null,20.41,20.85,null,20.85,21.4,null,22.48,23.0,null,23.83,24.0,null,23.66,25.1,null,23.6,23.77,null,22.76,22.96,null,22.95,23.07,null,24.88,25.1,null,21.78,22.78,null,21.23,21.42,null,20.09,20.5,null,19.39,19.92,null,19.12,19.3,null,19.12,19.36,null,19.27,19.42,null,19.89,19.9,null,19.26,19.7,null,19.04,19.32,null,19.2,19.36,null,18.76,18.94,null,18.14,18.14,null,18.2,18.34,null,18.9,19.14,null,18.44,18.83,null,18.5,19.08,null,18.4,18.93,null,17.5,18.1,null,16.9,17.72,null,16.29,16.95,null,16.14,16.22,null,15.81,15.89,null,15.43,15.83,null,16.05,16.2,null,18.34,18.41,null,19.12,19.42,null,18.86,19.25,null,18.57,18.67,null,17.73,18.4,null,19.63,19.89,null,19.27,19.29,null,19.82,20.2,null,21.2,21.52,null,20.85,21.21,null,20.6,20.7,null,21.06,21.28,null,23.48,23.5,null,22.67,22.85,null,21.87,21.92,null,21.49,21.55,null,20.73,20.83,null,21.4,21.47,null,22.51,22.66,null],\"showlegend\":false,\"name\":\"y3\",\"type\":\"scatter\",\"xaxis\":\"x\",\"line\":{\"width\":0.7,\"dash\":\"solid\",\"color\":\"rgba(255, 0, 0, 1.000)\",\"shape\":\"linear\"},\"x\":[730123.0,730123.0,null,730125.0,730125.0,null,730129.0,730129.0,null,730130.0,730130.0,null,730131.0,730131.0,null,730140.0,730140.0,null,730143.0,730143.0,null,730147.0,730147.0,null,730151.0,730151.0,null,730152.0,730152.0,null,730159.0,730159.0,null,730161.0,730161.0,null,730166.0,730166.0,null,730168.0,730168.0,null,730174.0,730174.0,null,730175.0,730175.0,null,730181.0,730181.0,null,730185.0,730185.0,null,730186.0,730186.0,null,730187.0,730187.0,null,730192.0,730192.0,null,730193.0,730193.0,null,730199.0,730199.0,null,730202.0,730202.0,null,730203.0,730203.0,null,730208.0,730208.0,null,730209.0,730209.0,null,730213.0,730213.0,null,730214.0,730214.0,null,730216.0,730216.0,null,730220.0,730220.0,null,730221.0,730221.0,null,730222.0,730222.0,null,730229.0,730229.0,null,730230.0,730230.0,null,730236.0,730236.0,null,730238.0,730238.0,null,730242.0,730242.0,null,730243.0,730243.0,null,730244.0,730244.0,null,730248.0,730248.0,null,730249.0,730249.0,null,730250.0,730250.0,null,730255.0,730255.0,null,730257.0,730257.0,null,730258.0,730258.0,null,730259.0,730259.0,null,730262.0,730262.0,null,730263.0,730263.0,null,730265.0,730265.0,null,730266.0,730266.0,null,730271.0,730271.0,null,730276.0,730276.0,null,730279.0,730279.0,null,730283.0,730283.0,null,730285.0,730285.0,null,730287.0,730287.0,null,730293.0,730293.0,null,730294.0,730294.0,null,730298.0,730298.0,null,730300.0,730300.0,null,730306.0,730306.0,null,730312.0,730312.0,null,730314.0,730314.0,null,730319.0,730319.0,null,730320.0,730320.0,null,730322.0,730322.0,null,730325.0,730325.0,null,730329.0,730329.0,null,730333.0,730333.0,null,730334.0,730334.0,null,730336.0,730336.0,null,730340.0,730340.0,null,730346.0,730346.0,null,730347.0,730347.0,null,730350.0,730350.0,null,730368.0,730368.0,null,730369.0,730369.0,null,730371.0,730371.0,null,730374.0,730374.0,null,730377.0,730377.0,null,730378.0,730378.0,null,730384.0,730384.0,null,730389.0,730389.0,null,730390.0,730390.0,null,730392.0,730392.0,null,730395.0,730395.0,null,730396.0,730396.0,null,730398.0,730398.0,null,730402.0,730402.0,null,730403.0,730403.0,null,730404.0,730404.0,null,730409.0,730409.0,null,730410.0,730410.0,null,730412.0,730412.0,null,730417.0,730417.0,null,730418.0,730418.0,null,730427.0,730427.0,null,730430.0,730430.0,null,730431.0,730431.0,null,730432.0,730432.0,null,730434.0,730434.0,null,730439.0,730439.0,null,730440.0,730440.0,null,730441.0,730441.0,null,730445.0,730445.0,null,730446.0,730446.0,null,730451.0,730451.0,null,730452.0,730452.0,null,730453.0,730453.0,null,730454.0,730454.0,null,730458.0,730458.0,null,730460.0,730460.0,null,730467.0,730467.0,null,730468.0,730468.0,null,730469.0,730469.0,null,730473.0,730473.0,null,730475.0,730475.0,null,730480.0,730480.0,null,730490.0,730490.0,null,730495.0,730495.0,null,730497.0,730497.0,null,730501.0,730501.0,null,730502.0,730502.0,null,730510.0,730510.0,null,730518.0,730518.0,null,730521.0,730521.0,null,730525.0,730525.0,null,730529.0,730529.0,null,730536.0,730536.0,null,730538.0,730538.0,null,730544.0,730544.0,null,730551.0,730551.0,null,730553.0,730553.0,null,730556.0,730556.0,null,730559.0,730559.0,null,730564.0,730564.0,null,730570.0,730570.0,null,730574.0,730574.0,null,730577.0,730577.0,null,730578.0,730578.0,null,730579.0,730579.0,null,730581.0,730581.0,null,730584.0,730584.0,null,730586.0,730586.0,null,730591.0,730591.0,null,730592.0,730592.0,null,730598.0,730598.0,null,730599.0,730599.0,null,730601.0,730601.0,null,730605.0,730605.0,null,730608.0,730608.0,null,730612.0,730612.0,null,730613.0,730613.0,null,730614.0,730614.0,null,730615.0,730615.0,null,730616.0,730616.0,null,730620.0,730620.0,null,730622.0,730622.0,null,730627.0,730627.0,null,730628.0,730628.0,null,730629.0,730629.0,null,730630.0,730630.0,null,730634.0,730634.0,null,730635.0,730635.0,null,730640.0,730640.0,null,730642.0,730642.0,null,730644.0,730644.0,null,730647.0,730647.0,null,730650.0,730650.0,null,730654.0,730654.0,null,730655.0,730655.0,null,730658.0,730658.0,null,730663.0,730663.0,null,730665.0,730665.0,null,730671.0,730671.0,null,730672.0,730672.0,null,730676.0,730676.0,null,730682.0,730682.0,null,730684.0,730684.0,null,730685.0,730685.0,null,730689.0,730689.0,null,730690.0,730690.0,null,730691.0,730691.0,null,730696.0,730696.0,null,730697.0,730697.0,null,730700.0,730700.0,null,730705.0,730705.0,null,730707.0,730707.0,null,730711.0,730711.0,null,730712.0,730712.0,null,730718.0,730718.0,null,730720.0,730720.0,null,730725.0,730725.0,null,730726.0,730726.0,null,730732.0,730732.0,null,730734.0,730734.0,null,730735.0,730735.0,null,730746.0,730746.0,null,730748.0,730748.0,null,730753.0,730753.0,null,730754.0,730754.0,null,730760.0,730760.0,null,730767.0,730767.0,null,730775.0,730775.0,null,730781.0,730781.0,null,730784.0,730784.0,null,730787.0,730787.0,null,730789.0,730789.0,null,730797.0,730797.0,null,730805.0,730805.0,null,730809.0,730809.0,null,730816.0,730816.0,null,730817.0,730817.0,null,730818.0,730818.0,null,730822.0,730822.0,null,730825.0,730825.0,null,730830.0,730830.0,null,730831.0,730831.0,null,730832.0,730832.0,null,730833.0,730833.0,null,730839.0,730839.0,null,730850.0,730850.0,null],\"mode\":\"lines\"},{\"yaxis\":\"y\",\"y\":[115.5,115.19,124.88,87.62,93.75,96.75,52.81,52.5,50.31,48.12,48.0,22.69,20.31,18.81,18.88,19.75,14.44,14.56,18.14,16.94,20.62,23.63,21.42,19.33,19.1,18.14,15.71,18.09,21.01],\"showlegend\":true,\"name\":\"y4\",\"type\":\"bar\",\"xaxis\":\"x\",\"orientation\":\"v\",\"x\":[730139,730167,730241,730270,730273,730280,730301,730307,730326,730341,730342,730399,730405,730419,730420,730424,730461,730472,730489,730493,730509,730626,730649,730704,730710,730717,730756,730774,730840],\"marker\":{\"color\":\"rgba(0, 0, 255, 1.000)\"}},{\"yaxis\":\"y\",\"y\":[113.5,113.5,null,113.12,114.88,null,121.88,124.31,null,81.75,87.56,null,89.0,92.56,null,94.38,95.75,null,51.69,52.38,null,49.62,51.81,null,49.06,50.06,null,47.25,47.5,null,47.38,47.56,null,21.0,22.19,null,19.5,20.0,null,17.5,18.5,null,17.88,18.56,null,19.25,19.56,null,14.0,14.31,null,13.94,14.25,null,16.81,17.06,null,15.94,16.56,null,19.56,20.5,null,23.05,23.56,null,20.06,20.47,null,18.98,19.25,null,18.76,19.09,null,17.81,18.12,null,15.39,15.51,null,17.77,18.01,null,20.8,21.0,null],\"showlegend\":false,\"name\":\"y5\",\"type\":\"scatter\",\"xaxis\":\"x\",\"line\":{\"width\":0.7,\"dash\":\"solid\",\"color\":\"rgba(0, 0, 255, 1.000)\",\"shape\":\"linear\"},\"x\":[730139.0,730139.0,null,730167.0,730167.0,null,730241.0,730241.0,null,730270.0,730270.0,null,730273.0,730273.0,null,730280.0,730280.0,null,730301.0,730301.0,null,730307.0,730307.0,null,730326.0,730326.0,null,730341.0,730341.0,null,730342.0,730342.0,null,730399.0,730399.0,null,730405.0,730405.0,null,730419.0,730419.0,null,730420.0,730420.0,null,730424.0,730424.0,null,730461.0,730461.0,null,730472.0,730472.0,null,730489.0,730489.0,null,730493.0,730493.0,null,730509.0,730509.0,null,730626.0,730626.0,null,730649.0,730649.0,null,730704.0,730704.0,null,730710.0,730710.0,null,730717.0,730717.0,null,730756.0,730756.0,null,730774.0,730774.0,null,730840.0,730840.0,null],\"mode\":\"lines\"},{\"yaxis\":\"y\",\"y\":[115.5,121.5,null,115.19,115.5,null,124.88,125.12,null,87.62,88.12,null,93.75,99.75,null,96.75,97.94,null,52.81,54.94,null,52.5,52.94,null,50.31,50.62,null,48.12,48.44,null,48.0,48.44,null,22.69,22.94,null,20.31,20.81,null,18.81,18.88,null,18.88,19.19,null,19.75,20.25,null,14.44,14.88,null,14.56,14.62,null,18.14,18.5,null,16.94,16.98,null,20.62,20.69,null,23.63,23.91,null,21.42,21.73,null,19.33,19.67,null,19.1,19.33,null,18.14,18.23,null,15.71,15.91,null,18.09,18.2,null,21.01,21.54,null],\"showlegend\":false,\"name\":\"y6\",\"type\":\"scatter\",\"xaxis\":\"x\",\"line\":{\"width\":0.7,\"dash\":\"solid\",\"color\":\"rgba(0, 0, 255, 1.000)\",\"shape\":\"linear\"},\"x\":[730139.0,730139.0,null,730167.0,730167.0,null,730241.0,730241.0,null,730270.0,730270.0,null,730273.0,730273.0,null,730280.0,730280.0,null,730301.0,730301.0,null,730307.0,730307.0,null,730326.0,730326.0,null,730341.0,730341.0,null,730342.0,730342.0,null,730399.0,730399.0,null,730405.0,730405.0,null,730419.0,730419.0,null,730420.0,730420.0,null,730424.0,730424.0,null,730461.0,730461.0,null,730472.0,730472.0,null,730489.0,730489.0,null,730493.0,730493.0,null,730509.0,730509.0,null,730626.0,730626.0,null,730649.0,730649.0,null,730704.0,730704.0,null,730710.0,730710.0,null,730717.0,730717.0,null,730756.0,730756.0,null,730774.0,730774.0,null,730840.0,730840.0,null],\"mode\":\"lines\"},{\"yaxis\":\"y\",\"y\":[110.19,110.0,139.12,111.88,55.62,57.75,59.94,52.19,19.25,19.56,21.62,21.12,20.75,19.0,19.38,20.81,19.62,22.17,25.04,23.53,23.75,23.84,19.13,18.07,16.99,14.98,17.99,17.6,18.57,19.45,22.54],\"showlegend\":true,\"name\":\"y7\",\"type\":\"bar\",\"xaxis\":\"x\",\"orientation\":\"v\",\"x\":[730145,730146,730207,730224,730292,730375,730382,730385,730507,730511,730516,730517,730523,730532,730543,730552,730560,730572,730595,730623,730662,730669,730703,730714,730745,730761,730773,730788,730791,730804,730826],\"marker\":{\"color\":\"rgba(255, 255, 255, 0.000)\"}},{\"yaxis\":\"y\",\"y\":[109.75,110.0,null,107.0,108.81,null,137.12,137.25,null,109.0,109.31,null,50.31,50.5,null,57.0,57.34,null,58.56,59.75,null,50.0,50.31,null,18.44,19.06,null,19.06,19.5,null,21.44,21.5,null,20.5,20.69,null,19.81,20.66,null,18.75,19.0,null,18.69,19.28,null,20.44,20.69,null,18.88,19.0,null,21.5,22.08,null,24.6,24.93,null,23.12,23.36,null,23.01,23.34,null,23.5,23.51,null,19.0,19.04,null,17.99,18.0,null,15.73,16.0,null,14.83,14.95,null,17.95,17.95,null,17.06,17.38,null,18.16,18.52,null,19.23,19.45,null,22.0,22.46,null],\"showlegend\":false,\"name\":\"y8\",\"type\":\"scatter\",\"xaxis\":\"x\",\"line\":{\"width\":0.7,\"dash\":\"solid\",\"color\":\"rgba(255, 0, 0, 1.000)\",\"shape\":\"linear\"},\"x\":[730145.0,730145.0,null,730146.0,730146.0,null,730207.0,730207.0,null,730224.0,730224.0,null,730292.0,730292.0,null,730375.0,730375.0,null,730382.0,730382.0,null,730385.0,730385.0,null,730507.0,730507.0,null,730511.0,730511.0,null,730516.0,730516.0,null,730517.0,730517.0,null,730523.0,730523.0,null,730532.0,730532.0,null,730543.0,730543.0,null,730552.0,730552.0,null,730560.0,730560.0,null,730572.0,730572.0,null,730595.0,730595.0,null,730623.0,730623.0,null,730662.0,730662.0,null,730669.0,730669.0,null,730703.0,730703.0,null,730714.0,730714.0,null,730745.0,730745.0,null,730761.0,730761.0,null,730773.0,730773.0,null,730788.0,730788.0,null,730791.0,730791.0,null,730804.0,730804.0,null,730826.0,730826.0,null],\"mode\":\"lines\"},{\"yaxis\":\"y\",\"y\":[110.19,114.19,null,110.0,113.0,null,139.12,142.0,null,111.88,118.0,null,55.62,56.94,null,57.75,60.06,null,59.94,60.5,null,52.19,52.44,null,19.25,19.62,null,19.56,19.81,null,21.62,22.5,null,21.12,21.5,null,20.75,20.88,null,19.0,19.5,null,19.38,19.44,null,20.81,21.12,null,19.62,20.31,null,22.17,22.5,null,25.04,25.63,null,23.53,23.64,null,23.75,23.77,null,23.84,24.18,null,19.13,19.66,null,18.07,18.45,null,16.99,17.07,null,14.98,15.36,null,17.99,18.38,null,17.6,18.0,null,18.57,18.86,null,19.45,19.9,null,22.54,22.71,null],\"showlegend\":false,\"name\":\"y9\",\"type\":\"scatter\",\"xaxis\":\"x\",\"line\":{\"width\":0.7,\"dash\":\"solid\",\"color\":\"rgba(255, 0, 0, 1.000)\",\"shape\":\"linear\"},\"x\":[730145.0,730145.0,null,730146.0,730146.0,null,730207.0,730207.0,null,730224.0,730224.0,null,730292.0,730292.0,null,730375.0,730375.0,null,730382.0,730382.0,null,730385.0,730385.0,null,730507.0,730507.0,null,730511.0,730511.0,null,730516.0,730516.0,null,730517.0,730517.0,null,730523.0,730523.0,null,730532.0,730532.0,null,730543.0,730543.0,null,730552.0,730552.0,null,730560.0,730560.0,null,730572.0,730572.0,null,730595.0,730595.0,null,730623.0,730623.0,null,730662.0,730662.0,null,730669.0,730669.0,null,730703.0,730703.0,null,730714.0,730714.0,null,730745.0,730745.0,null,730761.0,730761.0,null,730773.0,730773.0,null,730788.0,730788.0,null,730791.0,730791.0,null,730804.0,730804.0,null,730826.0,730826.0,null],\"mode\":\"lines\"},{\"yaxis\":\"y\",\"y\":[111.94,104.0,99.5,96.75,100.44,103.94,106.56,112.25,103.75,103.31,108.0,114.06,114.88,113.5,115.81,119.0,113.81,116.25,113.25,114.62,130.31,128.0,122.25,125.75,116.25,121.56,125.0,134.94,144.19,139.56,135.81,130.38,131.75,113.81,123.88,126.88,120.5,128.31,126.75,113.12,102.81,107.62,105.69,87.69,89.12,92.88,96.56,94.5,92.38,96.62,101.25,54.12,54.44,53.31,54.44,57.12,58.88,57.69,58.31,55.12,50.06,52.0,50.81,48.0,47.94,47.69,48.5,51.44,50.5,51.69,54.31,56.11,56.81,58.06,59.19,59.5,60.94,63.44,62.0,58.0,60.66,61.05,53.5,53.5,23.62,22.06,20.12,19.5,20.38,19.31,20.5,22.31,20.19,19.38,20.25,18.94,19.31,17.06,17.0,15.06,15.19,15.38,14.38,15.0,14.81,14.81,14.88,14.88,16.38,17.19,18.0,18.69,19.5,20.5,21.69,21.75,21.12,20.75,19.69,19.5,20.06,18.88,18.81,19.5,18.75,19.25,20.38,21.5,19.56,20.44,20.56,20.12,21.62,23.0,22.87,22.53,20.87,22.04,22.42,22.79,25.72,24.72,26.2,25.93,26.59,25.75,23.29,24.1,19.95,20.89,20.94,21.66,20.31,20.44,21.67,22.49,23.99,23.54,23.9,22.7,22.54,24.36,24.85,25.1,19.98,18.59,18.96,19.06,19.82,19.05,18.65,18.21,18.57,18.92,17.83,18.55,18.55,17.37,17.02,15.73,16.45,15.51,15.54,15.88,16.14,16.2,16.82,17.74,18.01,18.0,18.3,19.02,18.95,19.19,18.59,19.07,19.57,19.59,18.71,18.75,19.37,19.61,20.0,19.68,19.84,21.37,21.3,22.4,23.76,22.54,20.62,21.01,21.62,21.36,21.49,22.07,22.43],\"showlegend\":true,\"name\":\"y10\",\"type\":\"bar\",\"xaxis\":\"x\",\"orientation\":\"v\",\"x\":[730122,730124,730126,730132,730133,730137,730138,730144,730150,730153,730154,730157,730158,730160,730164,730165,730172,730173,730178,730179,730180,730182,730188,730189,730194,730195,730196,730200,730201,730206,730210,730215,730217,730223,730227,730228,730234,730235,730237,730245,730251,730252,730256,730264,730272,730277,730278,730284,730286,730290,730291,730297,730299,730304,730308,730311,730313,730315,730318,730321,730327,730328,730332,730335,730339,730343,730348,730349,730353,730354,730355,730356,730357,730360,730361,730362,730363,730364,730370,730376,730381,730383,730388,730391,730397,730406,730411,730413,730416,730423,730425,730426,730433,730437,730438,730444,730448,730455,730459,730462,730465,730466,730474,730476,730481,730482,730483,730487,730488,730494,730496,730503,730504,730508,730514,730515,730522,730524,730528,730530,730531,730537,730539,730542,730545,730546,730549,730550,730557,730558,730563,730565,730566,730567,730571,730573,730580,730585,730587,730593,730594,730600,730602,730606,730607,730609,730619,730621,730636,730637,730641,730643,730648,730651,730656,730657,730661,730664,730668,730675,730677,730678,730679,730683,730686,730692,730693,730698,730699,730706,730713,730719,730721,730724,730727,730728,730733,730738,730747,730749,730752,730755,730759,730762,730763,730766,730768,730769,730770,730776,730777,730780,730782,730783,730790,730794,730795,730796,730798,730801,730802,730803,730808,730810,730812,730815,730819,730823,730824,730829,730836,730837,730838,730843,730845,730846,730847],\"marker\":{\"color\":\"rgba(255, 255, 255, 0.000)\"}},{\"yaxis\":\"y\",\"y\":[101.69,104.88,null,103.0,103.75,null,95.5,96.5,null,92.5,94.48,null,99.38,100.0,null,100.44,101.0,null,103.38,105.62,null,102.38,105.0,null,94.5,101.0,null,100.25,100.31,null,103.62,103.94,null,105.94,108.0,null,111.25,114.0,null,110.0,112.88,null,108.62,109.31,null,115.19,115.25,null,106.69,110.12,null,111.0,113.23,null,108.38,110.12,null,112.56,113.56,null,118.5,118.56,null,120.0,124.88,null,118.25,120.88,null,121.0,121.69,null,114.12,115.62,null,114.5,117.31,null,119.62,120.12,null,121.62,122.56,null,131.56,132.78,null,136.88,137.62,null,126.0,127.44,null,124.0,126.47,null,125.5,127.25,null,108.5,111.5,null,109.06,109.5,null,119.38,123.5,null,114.75,115.0,null,122.06,122.12,null,116.58,117.19,null,110.72,110.81,null,99.0,101.38,null,104.77,106.0,null,102.75,104.52,null,83.0,86.19,null,80.38,81.75,null,90.31,91.97,null,91.62,93.62,null,88.19,91.19,null,89.0,91.25,null,89.81,90.56,null,98.38,98.5,null,52.12,52.5,null,51.5,53.31,null,52.12,52.12,null,52.12,52.59,null,53.75,54.09,null,56.38,58.12,null,56.88,57.12,null,57.12,58.25,null,54.12,55.0,null,49.25,49.84,null,49.88,50.0,null,48.75,49.16,null,44.25,45.56,null,47.19,47.88,null,45.56,46.84,null,46.81,46.88,null,48.31,48.38,null,49.62,50.25,null,50.38,50.62,null,51.06,51.47,null,53.38,54.67,null,56.38,56.5,null,57.06,57.25,null,57.69,57.88,null,58.7,59.0,null,58.94,58.97,null,61.12,61.31,null,58.25,59.12,null,56.75,56.75,null,55.06,55.25,null,58.56,59.41,null,52.06,52.75,null,48.12,49.31,null,21.88,22.38,null,20.0,20.25,null,18.75,19.44,null,18.94,19.06,null,19.44,20.27,null,18.75,19.12,null,19.44,19.44,null,21.06,21.12,null,19.06,19.88,null,18.25,18.75,null,19.56,19.94,null,18.25,18.59,null,18.81,18.86,null,16.81,17.0,null,16.38,16.94,null,14.44,14.81,null,14.88,15.19,null,15.0,15.25,null,13.62,13.78,null,14.12,14.12,null,14.19,14.34,null,14.31,14.38,null,14.5,14.69,null,14.56,14.88,null,14.44,14.5,null,16.56,16.81,null,16.25,16.25,null,17.62,17.81,null,18.69,19.44,null,19.06,19.31,null,19.56,19.56,null,20.88,21.56,null,20.0,20.16,null,20.19,20.56,null,18.81,19.06,null,18.5,19.19,null,19.69,19.69,null,18.25,18.25,null,18.25,18.62,null,18.56,19.06,null,17.19,17.81,null,18.25,18.31,null,19.25,19.38,null,20.69,20.72,null,18.19,18.88,null,18.44,18.5,null,19.5,19.75,null,19.38,19.78,null,20.19,20.38,null,22.0,22.06,null,21.9,21.94,null,21.5,21.77,null,20.0,20.6,null,20.78,20.9,null,21.15,21.42,null,21.08,21.57,null,23.6,25.55,null,23.57,24.21,null,24.75,25.2,null,25.2,25.41,null,25.76,26.34,null,23.96,24.24,null,22.75,22.89,null,22.85,23.26,null,19.49,19.8,null,19.98,20.13,null,20.35,20.8,null,20.45,20.71,null,19.76,19.77,null,19.35,20.1,null,19.98,20.0,null,21.1,21.55,null,22.45,22.5,null,22.94,23.05,null,23.14,23.64,null,21.68,22.09,null,21.0,21.03,null,23.3,23.3,null,23.84,24.13,null,23.01,23.98,null,19.49,19.7,null,17.85,18.48,null,18.5,18.75,null,18.95,19.01,null,19.26,19.65,null,18.72,18.96,null,17.97,18.27,null,17.61,17.94,null,17.65,18.0,null,18.16,18.6,null,17.28,17.74,null,17.65,17.73,null,18.12,18.24,null,16.92,17.0,null,15.6,16.5,null,14.68,14.8,null,15.95,16.11,null,15.2,15.25,null,15.23,15.49,null,14.99,15.35,null,14.99,15.4,null,15.5,15.57,null,15.95,16.1,null,16.85,16.92,null,16.86,17.31,null,17.29,17.29,null,17.88,17.94,null,18.09,18.21,null,17.75,18.06,null,18.16,18.44,null,17.25,17.65,null,18.61,18.84,null,18.53,18.96,null,19.33,19.46,null,18.55,18.6,null,17.96,18.66,null,18.71,19.08,null,19.15,19.59,null,18.96,19.0,null,19.26,19.61,null,19.57,19.71,null,19.88,19.94,null,20.25,20.47,null,20.72,21.05,null,22.17,22.36,null,22.23,22.29,null,20.19,20.4,null,20.22,20.89,null,20.47,20.58,null,20.9,20.9,null,21.14,21.35,null,21.58,21.58,null,21.96,21.97,null],\"showlegend\":false,\"name\":\"y11\",\"type\":\"scatter\",\"xaxis\":\"x\",\"line\":{\"width\":0.7,\"dash\":\"solid\",\"color\":\"rgba(0, 0, 255, 1.000)\",\"shape\":\"linear\"},\"x\":[730122.0,730122.0,null,730124.0,730124.0,null,730126.0,730126.0,null,730132.0,730132.0,null,730133.0,730133.0,null,730137.0,730137.0,null,730138.0,730138.0,null,730144.0,730144.0,null,730150.0,730150.0,null,730153.0,730153.0,null,730154.0,730154.0,null,730157.0,730157.0,null,730158.0,730158.0,null,730160.0,730160.0,null,730164.0,730164.0,null,730165.0,730165.0,null,730172.0,730172.0,null,730173.0,730173.0,null,730178.0,730178.0,null,730179.0,730179.0,null,730180.0,730180.0,null,730182.0,730182.0,null,730188.0,730188.0,null,730189.0,730189.0,null,730194.0,730194.0,null,730195.0,730195.0,null,730196.0,730196.0,null,730200.0,730200.0,null,730201.0,730201.0,null,730206.0,730206.0,null,730210.0,730210.0,null,730215.0,730215.0,null,730217.0,730217.0,null,730223.0,730223.0,null,730227.0,730227.0,null,730228.0,730228.0,null,730234.0,730234.0,null,730235.0,730235.0,null,730237.0,730237.0,null,730245.0,730245.0,null,730251.0,730251.0,null,730252.0,730252.0,null,730256.0,730256.0,null,730264.0,730264.0,null,730272.0,730272.0,null,730277.0,730277.0,null,730278.0,730278.0,null,730284.0,730284.0,null,730286.0,730286.0,null,730290.0,730290.0,null,730291.0,730291.0,null,730297.0,730297.0,null,730299.0,730299.0,null,730304.0,730304.0,null,730308.0,730308.0,null,730311.0,730311.0,null,730313.0,730313.0,null,730315.0,730315.0,null,730318.0,730318.0,null,730321.0,730321.0,null,730327.0,730327.0,null,730328.0,730328.0,null,730332.0,730332.0,null,730335.0,730335.0,null,730339.0,730339.0,null,730343.0,730343.0,null,730348.0,730348.0,null,730349.0,730349.0,null,730353.0,730353.0,null,730354.0,730354.0,null,730355.0,730355.0,null,730356.0,730356.0,null,730357.0,730357.0,null,730360.0,730360.0,null,730361.0,730361.0,null,730362.0,730362.0,null,730363.0,730363.0,null,730364.0,730364.0,null,730370.0,730370.0,null,730376.0,730376.0,null,730381.0,730381.0,null,730383.0,730383.0,null,730388.0,730388.0,null,730391.0,730391.0,null,730397.0,730397.0,null,730406.0,730406.0,null,730411.0,730411.0,null,730413.0,730413.0,null,730416.0,730416.0,null,730423.0,730423.0,null,730425.0,730425.0,null,730426.0,730426.0,null,730433.0,730433.0,null,730437.0,730437.0,null,730438.0,730438.0,null,730444.0,730444.0,null,730448.0,730448.0,null,730455.0,730455.0,null,730459.0,730459.0,null,730462.0,730462.0,null,730465.0,730465.0,null,730466.0,730466.0,null,730474.0,730474.0,null,730476.0,730476.0,null,730481.0,730481.0,null,730482.0,730482.0,null,730483.0,730483.0,null,730487.0,730487.0,null,730488.0,730488.0,null,730494.0,730494.0,null,730496.0,730496.0,null,730503.0,730503.0,null,730504.0,730504.0,null,730508.0,730508.0,null,730514.0,730514.0,null,730515.0,730515.0,null,730522.0,730522.0,null,730524.0,730524.0,null,730528.0,730528.0,null,730530.0,730530.0,null,730531.0,730531.0,null,730537.0,730537.0,null,730539.0,730539.0,null,730542.0,730542.0,null,730545.0,730545.0,null,730546.0,730546.0,null,730549.0,730549.0,null,730550.0,730550.0,null,730557.0,730557.0,null,730558.0,730558.0,null,730563.0,730563.0,null,730565.0,730565.0,null,730566.0,730566.0,null,730567.0,730567.0,null,730571.0,730571.0,null,730573.0,730573.0,null,730580.0,730580.0,null,730585.0,730585.0,null,730587.0,730587.0,null,730593.0,730593.0,null,730594.0,730594.0,null,730600.0,730600.0,null,730602.0,730602.0,null,730606.0,730606.0,null,730607.0,730607.0,null,730609.0,730609.0,null,730619.0,730619.0,null,730621.0,730621.0,null,730636.0,730636.0,null,730637.0,730637.0,null,730641.0,730641.0,null,730643.0,730643.0,null,730648.0,730648.0,null,730651.0,730651.0,null,730656.0,730656.0,null,730657.0,730657.0,null,730661.0,730661.0,null,730664.0,730664.0,null,730668.0,730668.0,null,730675.0,730675.0,null,730677.0,730677.0,null,730678.0,730678.0,null,730679.0,730679.0,null,730683.0,730683.0,null,730686.0,730686.0,null,730692.0,730692.0,null,730693.0,730693.0,null,730698.0,730698.0,null,730699.0,730699.0,null,730706.0,730706.0,null,730713.0,730713.0,null,730719.0,730719.0,null,730721.0,730721.0,null,730724.0,730724.0,null,730727.0,730727.0,null,730728.0,730728.0,null,730733.0,730733.0,null,730738.0,730738.0,null,730747.0,730747.0,null,730749.0,730749.0,null,730752.0,730752.0,null,730755.0,730755.0,null,730759.0,730759.0,null,730762.0,730762.0,null,730763.0,730763.0,null,730766.0,730766.0,null,730768.0,730768.0,null,730769.0,730769.0,null,730770.0,730770.0,null,730776.0,730776.0,null,730777.0,730777.0,null,730780.0,730780.0,null,730782.0,730782.0,null,730783.0,730783.0,null,730790.0,730790.0,null,730794.0,730794.0,null,730795.0,730795.0,null,730796.0,730796.0,null,730798.0,730798.0,null,730801.0,730801.0,null,730802.0,730802.0,null,730803.0,730803.0,null,730808.0,730808.0,null,730810.0,730810.0,null,730812.0,730812.0,null,730815.0,730815.0,null,730819.0,730819.0,null,730823.0,730823.0,null,730824.0,730824.0,null,730829.0,730829.0,null,730836.0,730836.0,null,730837.0,730837.0,null,730838.0,730838.0,null,730843.0,730843.0,null,730845.0,730845.0,null,730846.0,730846.0,null,730847.0,730847.0,null],\"mode\":\"lines\"},{\"yaxis\":\"y\",\"y\":[111.94,112.5,null,104.0,110.56,null,99.5,101.0,null,96.75,98.75,null,100.44,102.25,null,103.94,106.0,null,106.56,108.75,null,112.25,113.12,null,103.75,103.88,null,103.31,104.25,null,108.0,110.0,null,114.06,114.25,null,114.88,116.12,null,113.5,113.88,null,115.81,115.88,null,119.0,119.94,null,113.81,116.94,null,116.25,119.0,null,113.25,115.0,null,114.62,117.25,null,130.31,132.06,null,128.0,128.23,null,122.25,125.0,null,125.75,127.94,null,116.25,120.25,null,121.56,122.0,null,125.0,125.0,null,134.94,136.75,null,144.19,144.38,null,139.56,144.75,null,135.81,137.25,null,130.38,132.88,null,131.75,131.88,null,113.81,120.0,null,123.88,123.94,null,126.88,126.88,null,120.5,120.5,null,128.31,128.75,null,126.75,127.0,null,113.12,114.75,null,102.81,104.25,null,107.62,110.5,null,105.69,109.06,null,87.69,89.75,null,89.12,89.56,null,92.88,96.75,null,96.56,97.0,null,94.5,94.69,null,92.38,93.38,null,96.62,97.88,null,101.25,103.94,null,54.12,54.75,null,54.44,55.38,null,53.31,54.31,null,54.44,54.81,null,57.12,58.25,null,58.88,58.94,null,57.69,59.0,null,58.31,58.81,null,55.12,57.06,null,50.06,51.25,null,52.0,53.25,null,50.81,51.62,null,48.0,48.06,null,47.94,49.06,null,47.69,48.0,null,48.5,49.0,null,51.44,52.44,null,50.5,51.56,null,51.69,52.81,null,54.31,54.75,null,56.11,56.62,null,56.81,57.5,null,58.06,59.0,null,59.19,59.44,null,59.5,60.0,null,60.94,61.5,null,63.44,63.62,null,62.0,62.56,null,58.0,59.5,null,60.66,60.75,null,61.05,61.44,null,53.5,55.5,null,53.5,53.81,null,23.62,23.75,null,22.06,22.12,null,20.12,21.06,null,19.5,20.38,null,20.38,20.56,null,19.31,19.94,null,20.5,20.88,null,22.31,22.44,null,20.19,20.5,null,19.38,20.0,null,20.25,20.5,null,18.94,19.5,null,19.31,19.5,null,17.06,17.5,null,17.0,17.44,null,15.06,15.31,null,15.19,15.38,null,15.38,16.0,null,14.38,14.62,null,15.0,15.0,null,14.81,14.81,null,14.81,14.94,null,14.88,15.0,null,14.88,15.25,null,16.38,16.69,null,17.19,17.64,null,18.0,18.5,null,18.69,18.75,null,19.5,19.56,null,20.5,20.94,null,21.69,21.75,null,21.75,22.0,null,21.12,21.39,null,20.75,21.06,null,19.69,20.0,null,19.5,19.62,null,20.06,20.56,null,18.88,19.94,null,18.81,18.88,null,19.5,19.69,null,18.75,18.75,null,19.25,20.44,null,20.38,20.5,null,21.5,22.06,null,19.56,19.56,null,20.44,20.5,null,20.56,20.62,null,20.12,20.88,null,21.62,21.75,null,23.0,23.56,null,22.87,23.05,null,22.53,23.45,null,20.87,22.5,null,22.04,22.7,null,22.42,23.02,null,22.79,24.08,null,25.72,25.75,null,24.72,24.86,null,26.2,26.29,null,25.93,26.5,null,26.59,26.7,null,25.75,25.85,null,23.29,23.68,null,24.1,24.5,null,19.95,20.24,null,20.89,21.09,null,20.94,21.1,null,21.66,21.7,null,20.31,20.69,null,20.44,20.75,null,21.67,21.85,null,22.49,23.0,null,23.99,24.0,null,23.54,23.91,null,23.9,24.23,null,22.7,23.0,null,22.54,22.55,null,24.36,24.81,null,24.85,25.01,null,25.1,25.22,null,19.98,20.06,null,18.59,18.8,null,18.96,19.25,null,19.06,19.78,null,19.82,19.87,null,19.05,19.15,null,18.65,18.75,null,18.21,18.25,null,18.57,18.62,null,18.92,19.3,null,17.83,18.18,null,18.55,18.6,null,18.55,18.95,null,17.37,17.5,null,17.02,17.1,null,15.73,16.25,null,16.45,16.84,null,15.51,15.75,null,15.54,15.99,null,15.88,16.25,null,16.14,16.15,null,16.2,16.35,null,16.82,16.85,null,17.74,17.74,null,18.01,18.08,null,18.0,18.23,null,18.3,18.4,null,19.02,19.07,null,18.95,19.09,null,19.19,19.25,null,18.59,18.78,null,19.07,19.25,null,19.57,19.62,null,19.59,20.13,null,18.71,19.25,null,18.75,19.17,null,19.37,19.39,null,19.61,19.9,null,20.0,20.05,null,19.68,19.8,null,19.84,19.95,null,21.37,21.55,null,21.3,21.44,null,22.4,22.56,null,23.76,24.03,null,22.54,22.99,null,20.62,21.0,null,21.01,21.33,null,21.62,21.68,null,21.36,21.45,null,21.49,22.3,null,22.07,22.25,null,22.43,23.0,null],\"showlegend\":false,\"name\":\"y12\",\"type\":\"scatter\",\"xaxis\":\"x\",\"line\":{\"width\":0.7,\"dash\":\"solid\",\"color\":\"rgba(0, 0, 255, 1.000)\",\"shape\":\"linear\"},\"x\":[730122.0,730122.0,null,730124.0,730124.0,null,730126.0,730126.0,null,730132.0,730132.0,null,730133.0,730133.0,null,730137.0,730137.0,null,730138.0,730138.0,null,730144.0,730144.0,null,730150.0,730150.0,null,730153.0,730153.0,null,730154.0,730154.0,null,730157.0,730157.0,null,730158.0,730158.0,null,730160.0,730160.0,null,730164.0,730164.0,null,730165.0,730165.0,null,730172.0,730172.0,null,730173.0,730173.0,null,730178.0,730178.0,null,730179.0,730179.0,null,730180.0,730180.0,null,730182.0,730182.0,null,730188.0,730188.0,null,730189.0,730189.0,null,730194.0,730194.0,null,730195.0,730195.0,null,730196.0,730196.0,null,730200.0,730200.0,null,730201.0,730201.0,null,730206.0,730206.0,null,730210.0,730210.0,null,730215.0,730215.0,null,730217.0,730217.0,null,730223.0,730223.0,null,730227.0,730227.0,null,730228.0,730228.0,null,730234.0,730234.0,null,730235.0,730235.0,null,730237.0,730237.0,null,730245.0,730245.0,null,730251.0,730251.0,null,730252.0,730252.0,null,730256.0,730256.0,null,730264.0,730264.0,null,730272.0,730272.0,null,730277.0,730277.0,null,730278.0,730278.0,null,730284.0,730284.0,null,730286.0,730286.0,null,730290.0,730290.0,null,730291.0,730291.0,null,730297.0,730297.0,null,730299.0,730299.0,null,730304.0,730304.0,null,730308.0,730308.0,null,730311.0,730311.0,null,730313.0,730313.0,null,730315.0,730315.0,null,730318.0,730318.0,null,730321.0,730321.0,null,730327.0,730327.0,null,730328.0,730328.0,null,730332.0,730332.0,null,730335.0,730335.0,null,730339.0,730339.0,null,730343.0,730343.0,null,730348.0,730348.0,null,730349.0,730349.0,null,730353.0,730353.0,null,730354.0,730354.0,null,730355.0,730355.0,null,730356.0,730356.0,null,730357.0,730357.0,null,730360.0,730360.0,null,730361.0,730361.0,null,730362.0,730362.0,null,730363.0,730363.0,null,730364.0,730364.0,null,730370.0,730370.0,null,730376.0,730376.0,null,730381.0,730381.0,null,730383.0,730383.0,null,730388.0,730388.0,null,730391.0,730391.0,null,730397.0,730397.0,null,730406.0,730406.0,null,730411.0,730411.0,null,730413.0,730413.0,null,730416.0,730416.0,null,730423.0,730423.0,null,730425.0,730425.0,null,730426.0,730426.0,null,730433.0,730433.0,null,730437.0,730437.0,null,730438.0,730438.0,null,730444.0,730444.0,null,730448.0,730448.0,null,730455.0,730455.0,null,730459.0,730459.0,null,730462.0,730462.0,null,730465.0,730465.0,null,730466.0,730466.0,null,730474.0,730474.0,null,730476.0,730476.0,null,730481.0,730481.0,null,730482.0,730482.0,null,730483.0,730483.0,null,730487.0,730487.0,null,730488.0,730488.0,null,730494.0,730494.0,null,730496.0,730496.0,null,730503.0,730503.0,null,730504.0,730504.0,null,730508.0,730508.0,null,730514.0,730514.0,null,730515.0,730515.0,null,730522.0,730522.0,null,730524.0,730524.0,null,730528.0,730528.0,null,730530.0,730530.0,null,730531.0,730531.0,null,730537.0,730537.0,null,730539.0,730539.0,null,730542.0,730542.0,null,730545.0,730545.0,null,730546.0,730546.0,null,730549.0,730549.0,null,730550.0,730550.0,null,730557.0,730557.0,null,730558.0,730558.0,null,730563.0,730563.0,null,730565.0,730565.0,null,730566.0,730566.0,null,730567.0,730567.0,null,730571.0,730571.0,null,730573.0,730573.0,null,730580.0,730580.0,null,730585.0,730585.0,null,730587.0,730587.0,null,730593.0,730593.0,null,730594.0,730594.0,null,730600.0,730600.0,null,730602.0,730602.0,null,730606.0,730606.0,null,730607.0,730607.0,null,730609.0,730609.0,null,730619.0,730619.0,null,730621.0,730621.0,null,730636.0,730636.0,null,730637.0,730637.0,null,730641.0,730641.0,null,730643.0,730643.0,null,730648.0,730648.0,null,730651.0,730651.0,null,730656.0,730656.0,null,730657.0,730657.0,null,730661.0,730661.0,null,730664.0,730664.0,null,730668.0,730668.0,null,730675.0,730675.0,null,730677.0,730677.0,null,730678.0,730678.0,null,730679.0,730679.0,null,730683.0,730683.0,null,730686.0,730686.0,null,730692.0,730692.0,null,730693.0,730693.0,null,730698.0,730698.0,null,730699.0,730699.0,null,730706.0,730706.0,null,730713.0,730713.0,null,730719.0,730719.0,null,730721.0,730721.0,null,730724.0,730724.0,null,730727.0,730727.0,null,730728.0,730728.0,null,730733.0,730733.0,null,730738.0,730738.0,null,730747.0,730747.0,null,730749.0,730749.0,null,730752.0,730752.0,null,730755.0,730755.0,null,730759.0,730759.0,null,730762.0,730762.0,null,730763.0,730763.0,null,730766.0,730766.0,null,730768.0,730768.0,null,730769.0,730769.0,null,730770.0,730770.0,null,730776.0,730776.0,null,730777.0,730777.0,null,730780.0,730780.0,null,730782.0,730782.0,null,730783.0,730783.0,null,730790.0,730790.0,null,730794.0,730794.0,null,730795.0,730795.0,null,730796.0,730796.0,null,730798.0,730798.0,null,730801.0,730801.0,null,730802.0,730802.0,null,730803.0,730803.0,null,730808.0,730808.0,null,730810.0,730810.0,null,730812.0,730812.0,null,730815.0,730815.0,null,730819.0,730819.0,null,730823.0,730823.0,null,730824.0,730824.0,null,730829.0,730829.0,null,730836.0,730836.0,null,730837.0,730837.0,null,730838.0,730838.0,null,730843.0,730843.0,null,730845.0,730845.0,null,730846.0,730846.0,null,730847.0,730847.0,null],\"mode\":\"lines\"}],\n",
       "               {\"yaxis\":{\"type\":\"-\",\"titlefont\":{\"size\":15,\"color\":\"rgba(0, 0, 0, 1.000)\",\"family\":\"sans-serif\"},\"title\":\"\",\"tickfont\":{\"size\":11,\"color\":\"rgba(0, 0, 0, 1.000)\",\"family\":\"sans-serif\"},\"ticks\":\"inside\",\"tickmode\":\"array\",\"showgrid\":false,\"tickvals\":[50.0,100.0,150.0],\"domain\":[0.03762029746281716,0.9901574803149606],\"ticktext\":[\"50\",\"100\",\"150\"],\"tickangle\":0,\"zeroline\":false,\"linecolor\":\"rgba(0, 0, 0, 1.000)\",\"tickcolor\":\"rgba(0, 0, 0, 1.000)\",\"anchor\":\"x\"},\"annotations\":[],\"width\":600,\"plot_bgcolor\":\"rgba(255, 255, 255, 1.000)\",\"showlegend\":false,\"xaxis\":{\"type\":\"-\",\"titlefont\":{\"size\":15,\"color\":\"rgba(0, 0, 0, 1.000)\",\"family\":\"sans-serif\"},\"title\":\"\",\"tickfont\":{\"size\":11,\"color\":\"rgba(0, 0, 0, 1.000)\",\"family\":\"sans-serif\"},\"ticks\":\"inside\",\"tickmode\":\"array\",\"showgrid\":false,\"tickvals\":[730250.0,730500.0,730750.0],\"domain\":[0.05100612423447069,0.9934383202099737],\"ticktext\":[\"2000-05-10\",\"2001-01-15\",\"2001-09-22\"],\"tickangle\":0,\"zeroline\":false,\"linecolor\":\"rgba(0, 0, 0, 1.000)\",\"tickcolor\":\"rgba(0, 0, 0, 1.000)\",\"anchor\":\"y\"},\"paper_bgcolor\":\"rgba(255, 255, 255, 1.000)\",\"margin\":{\"r\":0,\"l\":0,\"b\":0,\"t\":20},\"height\":400}, {showLink: false});\n",
       "\n",
       "    });\n",
       " </script>\n"
      ]
     },
     "execution_count": 152,
     "metadata": {},
     "output_type": "execute_result"
    }
   ],
   "source": [
    "plot(Candlestick(ohlc))"
   ]
  },
  {
   "cell_type": "code",
   "execution_count": 153,
   "metadata": {
    "collapsed": false
   },
   "outputs": [
    {
     "name": "stderr",
     "output_type": "stream",
     "text": [
      "WARNING: Method definition apply_recipe(Base.Dict{Symbol, Any}, #T<:TimeSeries.TimeArray) in module Main at C:\\Users\\miguel\\.julia\\v0.5\\RecipesBase\\src\\RecipesBase.jl:232 overwritten at C:\\Users\\miguel\\.julia\\v0.5\\RecipesBase\\src\\RecipesBase.jl:232.\n"
     ]
    }
   ],
   "source": [
    "@recipe function f{T<:TimeArray}(ta::T)\n",
    "    st = get(d, :seriestype, :path)\n",
    "    if in(st, [:candlestick, :heikinashi])\n",
    "        Candlestick(ta)\n",
    "    #elseif st == :ohlc #ohlc (meaning sticks with steps on the sides) should be passed on to Plots internal ohlc plot engine\n",
    "    #    ta, ohlc = extract_ohlc(ta)\n",
    "    #    collect(zip(ohlc)) # But there are currently issues with that\n",
    "    else\n",
    "        labels --> reshape(ta.colnames,1,length(ta.colnames))\n",
    "        seriestype := st\n",
    "        ta.timestamp, ta.values\n",
    "    end\n",
    "end"
   ]
  },
  {
   "cell_type": "code",
   "execution_count": 157,
   "metadata": {
    "collapsed": true
   },
   "outputs": [
    {
     "name": "stderr",
     "output_type": "stream",
     "text": [
      "\u001b[1m\u001b[34mINFO: Cloning cache of Indicators from https://github.com/dysonance/Indicators.jl.git\n",
      "\u001b[0m\u001b[1m\u001b[34mINFO: Cloning cache of Temporal from https://github.com/dysonance/Temporal.jl.git\n",
      "\u001b[0m\u001b[1m\u001b[34mINFO: Installing Indicators v0.1.4\n",
      "\u001b[0m\u001b[1m\u001b[34mINFO: Installing Temporal v0.2.4\n",
      "\u001b[0m\u001b[1m\u001b[34mINFO: Building HttpParser\n",
      "\u001b[0m\u001b[1m\u001b[34mINFO: Building MbedTLS\n",
      "\u001b[0m"
     ]
    },
    {
     "name": "stdout",
     "output_type": "stream",
     "text": [
      "Using system libraries...\n"
     ]
    },
    {
     "name": "stderr",
     "output_type": "stream",
     "text": [
      "\u001b[1m\u001b[34mINFO: Package database updated\n",
      "\u001b[0m"
     ]
    }
   ],
   "source": [
    "Pkg.add(\"Indicators\")"
   ]
  },
  {
   "cell_type": "code",
   "execution_count": 158,
   "metadata": {
    "collapsed": false
   },
   "outputs": [
    {
     "name": "stderr",
     "output_type": "stream",
     "text": [
      "\u001b[1m\u001b[34mINFO: Precompiling module Indicators.\n",
      "\u001b[0mWARNING: using Indicators.sma in module Main conflicts with an existing identifier.\n",
      "WARNING: using Indicators.mode in module Main conflicts with an existing identifier.\n"
     ]
    }
   ],
   "source": [
    "using Indicators"
   ]
  },
  {
   "cell_type": "code",
   "execution_count": 161,
   "metadata": {
    "collapsed": false
   },
   "outputs": [
    {
     "data": {
      "text/plain": [
       "500x1 TimeSeries.TimeArray{Float64,1,Date,Array{Float64,1}} 2000-01-03 to 2001-12-31\n",
       "\n",
       "             Open      \n",
       "2000-01-03 | 104.88    \n",
       "2000-01-04 | 108.25    \n",
       "2000-01-05 | 103.75    \n",
       "2000-01-06 | 106.12    \n",
       "⋮\n",
       "2001-12-26 | 21.35     \n",
       "2001-12-27 | 21.58     \n",
       "2001-12-28 | 21.97     \n",
       "2001-12-31 | 22.51     \n"
      ]
     },
     "execution_count": 161,
     "metadata": {},
     "output_type": "execute_result"
    }
   ],
   "source": [
    "ohlc[\"Open\"]"
   ]
  },
  {
   "cell_type": "code",
   "execution_count": 163,
   "metadata": {
    "collapsed": false
   },
   "outputs": [
    {
     "data": {
      "text/plain": [
       "Indicators"
      ]
     },
     "execution_count": 163,
     "metadata": {},
     "output_type": "execute_result"
    }
   ],
   "source": [
    "Indicators."
   ]
  },
  {
   "cell_type": "code",
   "execution_count": 164,
   "metadata": {
    "collapsed": false,
    "scrolled": true
   },
   "outputs": [
    {
     "data": {
      "text/plain": [
       "module_functions (generic function with 1 method)"
      ]
     },
     "execution_count": 164,
     "metadata": {},
     "output_type": "execute_result"
    }
   ],
   "source": [
    "function module_functions(modname)\n",
    "    list = Symbol[]\n",
    "    for nm in names(modname)\n",
    "        typeof(eval(nm)) == Function && push!(list,nm)\n",
    "    end\n",
    "    return list\n",
    "end\n",
    "module_functions(Indicators)"
   ]
  },
  {
   "cell_type": "code",
   "execution_count": 165,
   "metadata": {
    "collapsed": false
   },
   "outputs": [
    {
     "data": {
      "text/plain": [
       "0-element Array{Symbol,1}"
      ]
     },
     "execution_count": 165,
     "metadata": {},
     "output_type": "execute_result"
    }
   ],
   "source": [
    "module_functions(Indicators)"
   ]
  },
  {
   "cell_type": "code",
   "execution_count": 170,
   "metadata": {
    "collapsed": false
   },
   "outputs": [
    {
     "ename": "LoadError",
     "evalue": "syntax: incomplete: premature end of input",
     "output_type": "error",
     "traceback": [
      "syntax: incomplete: premature end of input",
      ""
     ]
    }
   ],
   "source": [
    "Indicators.adx\n",
    "Indicators.alma\n",
    "Indicators.aroon\n",
    "Indicators.atr\n",
    "Indicators.bbands\n",
    "Indicators.cci\n",
    "Indicators.close_fun\n",
    "Indicators.crossover\n",
    "Indicators.crossunder\n",
    "Indicators.dema\n",
    "Indicators.diffn\n",
    "Indicators.donch\n",
    "Indicators.ema\n",
    "Indicators.eval\n",
    "Indicators.hl_fun\n",
    "Indicators.hlc_fun\n",
    "Indicators.hma\n",
    "Indicators.interpolate\n",
    "Indicators.kama\n",
    "Indicators.keltner\n",
    "Indicators.kst\n",
    "Indicators.macd\n",
    "Indicators.mama\n",
    "Indicators.maxima\n",
    "Indicators.minima\n",
    "Indicators.mlr\n",
    "Indicators.mlr_bands\n",
    "Indicators.mlr_intercept\n",
    "Indicators.mlr_lb\n",
    "Indicators.mlr_rsq\n",
    "Indicators.mlr_se\n",
    "Indicators.mlr_slope\n",
    "Indicators.mlr_ub\n",
    "Indicators.psar\n",
    "Indicators.resistance\n",
    "Indicators.roc\n",
    "Indicators.rsi\n",
    "Indicators.runcor\n",
    "Indicators.runcov\n",
    "Indicators.runmad\n",
    "Indicators.runmax\n",
    "Indicators.runmean\n",
    "Indicators.runsd\n",
    "Indicators.runsum\n",
    "Indicators.runvar\n",
    "Indicators.sma\n",
    "Indicators.smi\n",
    "Indicators.stoch\n",
    "Indicators.support\n",
    "Indicators.swma\n",
    "Indicators.tema\n",
    "Indicators.tr\n",
    "Indicators.trima\n",
    "Indicators.wilder_sum\n",
    "Indicators.wma\n",
    "Indicators.wpr\n",
    "\n",
    "\n",
    "\n",
    "\n"
   ]
  },
  {
   "cell_type": "code",
   "execution_count": 166,
   "metadata": {
    "collapsed": false
   },
   "outputs": [
    {
     "data": {
      "text/plain": [
       "55-element Array{Symbol,1}:\n",
       " :Indicators\n",
       " :adx       \n",
       " :alma      \n",
       " :aroon     \n",
       " :atr       \n",
       " :bbands    \n",
       " :cci       \n",
       " :crossover \n",
       " :crossunder\n",
       " :dema      \n",
       " :diffn     \n",
       " :donch     \n",
       " :ema       \n",
       " ⋮          \n",
       " :runsum    \n",
       " :runvar    \n",
       " :sma       \n",
       " :smi       \n",
       " :stoch     \n",
       " :swma      \n",
       " :tema      \n",
       " :tr        \n",
       " :trima     \n",
       " :wilder_sum\n",
       " :wma       \n",
       " :wpr       "
      ]
     },
     "execution_count": 166,
     "metadata": {},
     "output_type": "execute_result"
    }
   ],
   "source": [
    "names(Indicators)"
   ]
  },
  {
   "cell_type": "code",
   "execution_count": null,
   "metadata": {
    "collapsed": true
   },
   "outputs": [],
   "source": []
  }
 ],
 "metadata": {
  "kernelspec": {
   "display_name": "Julia 0.5.1",
   "language": "julia",
   "name": "julia-0.5"
  },
  "language_info": {
   "file_extension": ".jl",
   "mimetype": "application/julia",
   "name": "julia",
   "version": "0.5.1"
  }
 },
 "nbformat": 4,
 "nbformat_minor": 2
}
