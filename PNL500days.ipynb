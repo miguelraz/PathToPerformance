{
 "cells": [
  {
   "cell_type": "markdown",
   "metadata": {
    "deletable": true,
    "editable": true
   },
   "source": [
    "### Field report: PNL and hit rate analysis for 5 basic strategies.\n",
    "### 17/03/17- v0.1\n",
    "#### por mrg"
   ]
  },
  {
   "cell_type": "code",
   "execution_count": null,
   "metadata": {
    "collapsed": true,
    "deletable": true,
    "editable": true
   },
   "outputs": [],
   "source": []
  },
  {
   "cell_type": "code",
   "execution_count": 93,
   "metadata": {
    "collapsed": true,
    "deletable": true,
    "editable": true
   },
   "outputs": [
    {
     "name": "stderr",
     "output_type": "stream",
     "text": [
      "\u001b[1m\u001b[34mINFO: Nothing to be done\n",
      "\u001b[0m\u001b[1m\u001b[34mINFO: Nothing to be done\n",
      "\u001b[0m\u001b[1m\u001b[34mINFO: Nothing to be done\n",
      "\u001b[0m\u001b[1m\u001b[34mINFO: Nothing to be done\n",
      "\u001b[0m\u001b[1m\u001b[34mINFO: METADATA might be out-of-date — you may not have the latest version of PlotlyJS\n",
      "\u001b[0m\u001b[1m\u001b[34mINFO: Use `Pkg.update()` to get the latest versions of your packages\n",
      "\u001b[0m\u001b[1m\u001b[34mINFO: Nothing to be done\n",
      "\u001b[0m"
     ]
    },
    {
     "ename": "LoadError",
     "evalue": "unknown package StatsBase.jl\n in macro expansion at .\\pkg\\entry.jl:53 [inlined]\n in (::Base.Pkg.Entry.##2#5{String,Base.Pkg.Types.VersionSet})() at .\\task.jl:360",
     "output_type": "error",
     "traceback": [
      "unknown package StatsBase.jl\n in macro expansion at .\\pkg\\entry.jl:53 [inlined]\n in (::Base.Pkg.Entry.##2#5{String,Base.Pkg.Types.VersionSet})() at .\\task.jl:360",
      "",
      " in sync_end() at .\\task.jl:311",
      " in macro expansion at .\\task.jl:327 [inlined]",
      " in add(::String, ::Base.Pkg.Types.VersionSet) at .\\pkg\\entry.jl:51",
      " in (::Base.Pkg.Dir.##2#3{Array{Any,1},Base.Pkg.Entry.#add,Tuple{String}})() at .\\pkg\\dir.jl:31",
      " in cd(::Base.Pkg.Dir.##2#3{Array{Any,1},Base.Pkg.Entry.#add,Tuple{String}}, ::String) at .\\file.jl:48",
      " in #cd#1(::Array{Any,1}, ::Function, ::Function, ::String, ::Vararg{Any,N}) at .\\pkg\\dir.jl:31",
      " in add(::String) at .\\pkg\\pkg.jl:100"
     ]
    }
   ],
   "source": [
    "#Load packages\n",
    "Pkg.add(\"TimeSeries\");Pkg.add(\"MarketData\");Pkg.add(\"Plots\");Pkg.add(\"PlotlyJS\");\n",
    "Pkg.add(\"Gadfly\");Pkg.add(\"StatsBase.jl\");Pkg.update();"
   ]
  },
  {
   "cell_type": "code",
   "execution_count": 98,
   "metadata": {
    "collapsed": false,
    "deletable": true,
    "editable": true
   },
   "outputs": [
    {
     "name": "stderr",
     "output_type": "stream",
     "text": [
      "\u001b[1m\u001b[34mINFO: Recompiling stale cache file C:\\Users\\miguel\\.julia\\lib\\v0.5\\StatsBase.ji for module StatsBase.\n",
      "\u001b[0m"
     ]
    }
   ],
   "source": [
    "using TimeSeries, MarketData, Plots, PlotlyJS, StatsBase;"
   ]
  },
  {
   "cell_type": "code",
   "execution_count": 12,
   "metadata": {
    "collapsed": false,
    "deletable": true,
    "editable": true,
    "scrolled": true
   },
   "outputs": [
    {
     "data": {
      "text/plain": [
       "TimeSeries.TimeArray{Float64,2,Date,Array{Float64,2}}"
      ]
     },
     "execution_count": 12,
     "metadata": {},
     "output_type": "execute_result"
    }
   ],
   "source": [
    "typeof(ohlc)"
   ]
  },
  {
   "cell_type": "code",
   "execution_count": 11,
   "metadata": {
    "collapsed": false,
    "deletable": true,
    "editable": true
   },
   "outputs": [
    {
     "data": {
      "text/plain": [
       "500x1 TimeSeries.TimeArray{Float64,1,Date,Array{Float64,1}} 2000-01-03 to 2001-12-31\n",
       "\n",
       "             Open      \n",
       "2000-01-03 | 104.88    \n",
       "2000-01-04 | 108.25    \n",
       "2000-01-05 | 103.75    \n",
       "2000-01-06 | 106.12    \n",
       "⋮\n",
       "2001-12-26 | 21.35     \n",
       "2001-12-27 | 21.58     \n",
       "2001-12-28 | 21.97     \n",
       "2001-12-31 | 22.51     \n"
      ]
     },
     "execution_count": 11,
     "metadata": {},
     "output_type": "execute_result"
    }
   ],
   "source": [
    "ohlc[\"Open\"]"
   ]
  },
  {
   "cell_type": "code",
   "execution_count": 127,
   "metadata": {
    "collapsed": true,
    "deletable": true,
    "editable": true
   },
   "outputs": [],
   "source": [
    "import TimeSeries.moving"
   ]
  },
  {
   "cell_type": "code",
   "execution_count": 128,
   "metadata": {
    "collapsed": true,
    "deletable": true,
    "editable": true
   },
   "outputs": [
    {
     "name": "stderr",
     "output_type": "stream",
     "text": [
      "WARNING: Method definition "
     ]
    },
    {
     "data": {
      "text/plain": [
       "moving (generic function with 2 methods)"
      ]
     },
     "execution_count": 128,
     "metadata": {},
     "output_type": "execute_result"
    },
    {
     "name": "stderr",
     "output_type": "stream",
     "text": [
      "moving(TimeSeries.TimeArray{#T<:Any, 1, D<:Base.Dates.TimeType, A<:AbstractArray}, Function, Int64) in module TimeSeries at C:\\Users\\miguel\\.julia\\v0.5\\TimeSeries\\src\\apply.jl:211 overwritten in module Main at In[128]:3.\n",
      "WARNING: Method definition #moving(Array{Any, 1}, TimeSeries.#moving, TimeSeries.TimeArray{#T<:Any, 1, D<:Base.Dates.TimeType, A<:AbstractArray}, Function, Int64) in module TimeSeries overwritten in module Main.\n",
      "WARNING: Method definition moving(TimeSeries.TimeArray{#T<:Any, 2, D<:Base.Dates.TimeType, A<:AbstractArray}, Function, Int64) in module TimeSeries at C:\\Users\\miguel\\.julia\\v0.5\\TimeSeries\\src\\apply.jl:221 overwritten in module Main at In[128]:13.\n",
      "WARNING: Method definition #moving(Array{Any, 1}, TimeSeries.#moving, TimeSeries.TimeArray{#T<:Any, 2, D<:Base.Dates.TimeType, A<:AbstractArray}, Function, Int64) in module TimeSeries overwritten in module Main.\n"
     ]
    }
   ],
   "source": [
    "# Función ventana\n",
    "function moving{T}(ta::TimeArray{T,1}, f::Function, window::Int; padding::Bool=false)\n",
    "    tstamps = padding ? ta.timestamp : ta.timestamp[window:end]\n",
    "    vals    = zeros(ta.values[window:end])\n",
    "    @inbounds for i=1:length(vals)\n",
    "        vals[i] = f(ta.values[i:i+(window-1)])\n",
    "    end\n",
    "    padding && (vals = [NaN*ones(window-1); vals])\n",
    "    TimeArray(tstamps, vals, ta.colnames, ta.meta)\n",
    "end\n",
    "\n",
    "function moving{T}(ta::TimeArray{T,2}, f::Function, window::Int; padding::Bool=false)\n",
    "    tstamps = padding ? ta.timestamp : ta.timestamp[window:end]\n",
    "    vals    = zeros(ta.values[window:end, :])\n",
    "    @inbounds for i=1:size(vals,1), j=1:size(vals, 2)\n",
    "        vals[i, j] = f(ta.values[i:i+(window-1), j])\n",
    "    end\n",
    "    padding && (vals = [NaN*ones(ta.values[1:(window-1), :]); vals])\n",
    "    TimeArray(tstamps, vals, ta.colnames, ta.meta)\n",
    "end"
   ]
  },
  {
   "cell_type": "code",
   "execution_count": 96,
   "metadata": {
    "collapsed": false,
    "deletable": true,
    "editable": true
   },
   "outputs": [
    {
     "data": {
      "text/plain": [
       "491x4 TimeSeries.TimeArray{Float64,2,Date,Array{Float64,2}} 2000-01-14 to 2001-12-31\n",
       "\n",
       "             Open      High      Low       Close     \n",
       "2000-01-14 | 100.692   103.981   96.001    98.782    \n",
       "2000-01-18 | 100.304   103.331   95.876    97.982    \n",
       "2000-01-19 | 100.041   103.144   96.095    98.388    \n",
       "2000-01-20 | 101.216   104.238   97.145    99.338    \n",
       "⋮\n",
       "2001-12-26 | 21.062    21.507    20.618    21.065    \n",
       "2001-12-27 | 21.033    21.54     20.651    21.123    \n",
       "2001-12-28 | 21.081    21.685    20.797    21.266    \n",
       "2001-12-31 | 21.259    21.868    20.971    21.417    \n"
      ]
     },
     "execution_count": 96,
     "metadata": {},
     "output_type": "execute_result"
    }
   ],
   "source": [
    "#Nice, ya podemos tomar promedios en ventanas de tamaño N = 10\n",
    "moving(ohlc,mean,10)"
   ]
  },
  {
   "cell_type": "code",
   "execution_count": 121,
   "metadata": {
    "collapsed": false,
    "deletable": true,
    "editable": true
   },
   "outputs": [
    {
     "ename": "LoadError",
     "evalue": "MethodError: no method matching start(::Symbol)\u001b[0m\nClosest candidates are:\n  start(\u001b[1m\u001b[31m::SimpleVector\u001b[0m) at essentials.jl:170\n  start(\u001b[1m\u001b[31m::Base.MethodList\u001b[0m) at reflection.jl:258\n  start(\u001b[1m\u001b[31m::IntSet\u001b[0m) at intset.jl:184\n  ...\u001b[0m",
     "output_type": "error",
     "traceback": [
      "MethodError: no method matching start(::Symbol)\u001b[0m\nClosest candidates are:\n  start(\u001b[1m\u001b[31m::SimpleVector\u001b[0m) at essentials.jl:170\n  start(\u001b[1m\u001b[31m::Base.MethodList\u001b[0m) at reflection.jl:258\n  start(\u001b[1m\u001b[31m::IntSet\u001b[0m) at intset.jl:184\n  ...\u001b[0m",
      "",
      " in anonymous at .\\<missing>:?"
     ]
    }
   ],
   "source": [
    "fs = (:mean)\n",
    "\n",
    "for f in fs\n",
    "@eval ($f) = moving(ohlc,$f,10)\n",
    "end"
   ]
  },
  {
   "cell_type": "code",
   "execution_count": 129,
   "metadata": {
    "collapsed": true,
    "deletable": true,
    "editable": true
   },
   "outputs": [],
   "source": [
    "# Aquí se van a desarrollar las funciones estrategia"
   ]
  },
  {
   "cell_type": "code",
   "execution_count": null,
   "metadata": {
    "collapsed": true,
    "deletable": true,
    "editable": true
   },
   "outputs": [],
   "source": []
  }
 ],
 "metadata": {
  "kernelspec": {
   "display_name": "Julia 0.5.1",
   "language": "julia",
   "name": "julia-0.5"
  },
  "language_info": {
   "file_extension": ".jl",
   "mimetype": "application/julia",
   "name": "julia",
   "version": "0.5.1"
  }
 },
 "nbformat": 4,
 "nbformat_minor": 2
}
