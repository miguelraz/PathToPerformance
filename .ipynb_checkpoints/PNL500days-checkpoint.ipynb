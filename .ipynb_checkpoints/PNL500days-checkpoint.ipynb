{
 "cells": [
  {
   "cell_type": "markdown",
   "metadata": {
    "deletable": true,
    "editable": true
   },
   "source": [
    "### Field report: PNL and hit rate analysis for 5 basic strategies.\n",
    "### 17/03/17- v0.1\n",
    "#### por mrg"
   ]
  },
  {
   "cell_type": "code",
   "execution_count": null,
   "metadata": {
    "collapsed": true,
    "deletable": true,
    "editable": true
   },
   "outputs": [],
   "source": []
  },
  {
   "cell_type": "code",
   "execution_count": 130,
   "metadata": {
    "collapsed": true,
    "deletable": true,
    "editable": true
   },
   "outputs": [
    {
     "name": "stderr",
     "output_type": "stream",
     "text": [
      "\u001b[1m\u001b[34mINFO: Nothing to be done\n",
      "\u001b[0m\u001b[1m\u001b[34mINFO: Nothing to be done\n",
      "\u001b[0m\u001b[1m\u001b[34mINFO: Nothing to be done\n",
      "\u001b[0m\u001b[1m\u001b[34mINFO: Nothing to be done\n",
      "\u001b[0m\u001b[1m\u001b[34mINFO: Nothing to be done\n",
      "\u001b[0m\u001b[1m\u001b[34mINFO: No packages to install, update or remove\n",
      "\u001b[0m\u001b[1m\u001b[34mINFO: Package database updated\n",
      "\u001b[0m\u001b[1m\u001b[34mINFO: Updating METADATA...\n",
      "\u001b[0m\u001b[1m\u001b[34mINFO: Updating cache of DataFrames...\n",
      "\u001b[0m\u001b[1m\u001b[34mINFO: Updating cache of DataFrames...\n",
      "\u001b[0m\u001b[1m\u001b[34mINFO: Updating OhMyREPL master...\n",
      "\u001b[0m\u001b[1m\u001b[34mINFO: Updating Atom master...\n",
      "\u001b[0m\u001b[1m\u001b[34mINFO: Updating Tokenize master...\n",
      "\u001b[0m\u001b[1m\u001b[34mINFO: Computing changes...\n",
      "\u001b[0m\u001b[1m\u001b[34mINFO: No packages to install, update or remove\n",
      "\u001b[0m"
     ]
    },
    {
     "ename": "LoadError",
     "evalue": "Update finished with errors.\n=> Package DataFrames: unable to update cache.\nGitError(Code:ERROR, Class:OS, Failed to receive response: The server returned an invalid or unrecognized response\r\n)\n in macro expansion at .\\libgit2\\error.jl:99 [inlined]\n in #fetch#55(::Base.LibGit2.FetchOptions, ::String, ::Function, ::Base.LibGit2.GitRemote, ::Array{AbstractString,1}) at .\\libgit2\\remote.jl:70\n in (::Base.LibGit2.#kw##fetch)(::Array{Any,1}, ::Base.LibGit2.#fetch, ::Base.LibGit2.GitRemote, ::Array{AbstractString,1}) at .\\<missing>:0\n in #fetch#96(::String, ::String, ::Array{AbstractString,1}, ::Nullable{Base.LibGit2.AbstractCredentials}, ::Function, ::Base.LibGit2.GitRepo) at .\\libgit2\\libgit2.jl:164\n in fetch(::Base.LibGit2.GitRepo) at .\\libgit2\\libgit2.jl:156\n in prefetch(::String, ::String, ::Array{String,1}) at .\\pkg\\cache.jl:64\n in update(::String, ::Set{String}) at .\\pkg\\entry.jl:403\n in (::Base.Pkg.Dir.##2#3{Array{Any,1},Base.Pkg.Entry.#update,Tuple{String,Set{String}}})() at .\\pkg\\dir.jl:31\n in cd(::Base.Pkg.Dir.##2#3{Array{Any,1},Base.Pkg.Entry.#update,Tuple{String,Set{String}}}, ::String) at .\\file.jl:48\n in #cd#1(::Array{Any,1}, ::Function, ::Function, ::String, ::Vararg{Any,N}) at .\\pkg\\dir.jl:31\n in update() at .\\pkg\\pkg.jl:210\n in include_string(::String, ::String) at .\\loading.jl:441\n in execute_request(::ZMQ.Socket, ::IJulia.Msg) at C:\\Users\\miguel\\.julia\\v0.5\\IJulia\\src\\execute_request.jl:157\n in eventloop(::ZMQ.Socket) at C:\\Users\\miguel\\.julia\\v0.5\\IJulia\\src\\eventloop.jl:8\n in (::IJulia.##13#19)() at .\\task.jl:360",
     "output_type": "error",
     "traceback": [
      "Update finished with errors.\n=> Package DataFrames: unable to update cache.\nGitError(Code:ERROR, Class:OS, Failed to receive response: The server returned an invalid or unrecognized response\r\n)\n in macro expansion at .\\libgit2\\error.jl:99 [inlined]\n in #fetch#55(::Base.LibGit2.FetchOptions, ::String, ::Function, ::Base.LibGit2.GitRemote, ::Array{AbstractString,1}) at .\\libgit2\\remote.jl:70\n in (::Base.LibGit2.#kw##fetch)(::Array{Any,1}, ::Base.LibGit2.#fetch, ::Base.LibGit2.GitRemote, ::Array{AbstractString,1}) at .\\<missing>:0\n in #fetch#96(::String, ::String, ::Array{AbstractString,1}, ::Nullable{Base.LibGit2.AbstractCredentials}, ::Function, ::Base.LibGit2.GitRepo) at .\\libgit2\\libgit2.jl:164\n in fetch(::Base.LibGit2.GitRepo) at .\\libgit2\\libgit2.jl:156\n in prefetch(::String, ::String, ::Array{String,1}) at .\\pkg\\cache.jl:64\n in update(::String, ::Set{String}) at .\\pkg\\entry.jl:403\n in (::Base.Pkg.Dir.##2#3{Array{Any,1},Base.Pkg.Entry.#update,Tuple{String,Set{String}}})() at .\\pkg\\dir.jl:31\n in cd(::Base.Pkg.Dir.##2#3{Array{Any,1},Base.Pkg.Entry.#update,Tuple{String,Set{String}}}, ::String) at .\\file.jl:48\n in #cd#1(::Array{Any,1}, ::Function, ::Function, ::String, ::Vararg{Any,N}) at .\\pkg\\dir.jl:31\n in update() at .\\pkg\\pkg.jl:210\n in include_string(::String, ::String) at .\\loading.jl:441\n in execute_request(::ZMQ.Socket, ::IJulia.Msg) at C:\\Users\\miguel\\.julia\\v0.5\\IJulia\\src\\execute_request.jl:157\n in eventloop(::ZMQ.Socket) at C:\\Users\\miguel\\.julia\\v0.5\\IJulia\\src\\eventloop.jl:8\n in (::IJulia.##13#19)() at .\\task.jl:360",
      "",
      " in update(::String, ::Set{String}) at .\\pkg\\entry.jl:463",
      " in (::Base.Pkg.Dir.##2#3{Array{Any,1},Base.Pkg.Entry.#update,Tuple{String,Set{String}}})() at .\\pkg\\dir.jl:31",
      " in cd(::Base.Pkg.Dir.##2#3{Array{Any,1},Base.Pkg.Entry.#update,Tuple{String,Set{String}}}, ::String) at .\\file.jl:48",
      " in #cd#1(::Array{Any,1}, ::Function, ::Function, ::String, ::Vararg{Any,N}) at .\\pkg\\dir.jl:31",
      " in update() at .\\pkg\\pkg.jl:210"
     ]
    }
   ],
   "source": [
    "#Load packages\n",
    "Pkg.add(\"TimeSeries\");Pkg.add(\"MarketData\");Pkg.add(\"Plots\");Pkg.add(\"PlotlyJS\");\n",
    "Pkg.add(\"Gadfly\");Pkg.add(\"StatsBase\");Pkg.update();"
   ]
  },
  {
   "cell_type": "code",
   "execution_count": 98,
   "metadata": {
    "collapsed": true,
    "deletable": true,
    "editable": true
   },
   "outputs": [
    {
     "name": "stderr",
     "output_type": "stream",
     "text": [
      "\u001b[1m\u001b[34mINFO: Recompiling stale cache file C:\\Users\\miguel\\.julia\\lib\\v0.5\\StatsBase.ji for module StatsBase.\n",
      "\u001b[0m"
     ]
    }
   ],
   "source": [
    "using TimeSeries, MarketData, Plots, PlotlyJS, StatsBase;"
   ]
  },
  {
   "cell_type": "code",
   "execution_count": 131,
   "metadata": {
    "collapsed": false,
    "deletable": true,
    "editable": true,
    "scrolled": true
   },
   "outputs": [
    {
     "data": {
      "text/plain": [
       "TimeSeries.TimeArray{Float64,2,Date,Array{Float64,2}}"
      ]
     },
     "execution_count": 131,
     "metadata": {},
     "output_type": "execute_result"
    }
   ],
   "source": [
    "typeof(ohlc)"
   ]
  },
  {
   "cell_type": "code",
   "execution_count": 132,
   "metadata": {
    "collapsed": false,
    "deletable": true,
    "editable": true
   },
   "outputs": [
    {
     "data": {
      "text/plain": [
       "500x4 TimeSeries.TimeArray{Float64,2,Date,Array{Float64,2}} 2000-01-03 to 2001-12-31\n",
       "\n",
       "             Open      High      Low       Close     \n",
       "2000-01-03 | 104.88    112.5     101.69    111.94    \n",
       "2000-01-04 | 108.25    110.62    101.19    102.5     \n",
       "2000-01-05 | 103.75    110.56    103.0     104.0     \n",
       "2000-01-06 | 106.12    107.0     95.0      95.0      \n",
       "⋮\n",
       "2001-12-26 | 21.35     22.3      21.14     21.49     \n",
       "2001-12-27 | 21.58     22.25     21.58     22.07     \n",
       "2001-12-28 | 21.97     23.0      21.96     22.43     \n",
       "2001-12-31 | 22.51     22.66     21.83     21.9      \n"
      ]
     },
     "execution_count": 132,
     "metadata": {},
     "output_type": "execute_result"
    }
   ],
   "source": [
    "ohlc"
   ]
  },
  {
   "cell_type": "code",
   "execution_count": 133,
   "metadata": {
    "collapsed": false
   },
   "outputs": [
    {
     "data": {
      "text/plain": [
       "500x1 TimeSeries.TimeArray{Float64,1,Date,Array{Float64,1}} 2000-01-03 to 2001-12-31\n",
       "\n",
       "             Open      \n",
       "2000-01-03 | 104.88    \n",
       "2000-01-04 | 108.25    \n",
       "2000-01-05 | 103.75    \n",
       "2000-01-06 | 106.12    \n",
       "⋮\n",
       "2001-12-26 | 21.35     \n",
       "2001-12-27 | 21.58     \n",
       "2001-12-28 | 21.97     \n",
       "2001-12-31 | 22.51     \n"
      ]
     },
     "execution_count": 133,
     "metadata": {},
     "output_type": "execute_result"
    }
   ],
   "source": [
    "ohlc[\"Open\"]"
   ]
  },
  {
   "cell_type": "code",
   "execution_count": 134,
   "metadata": {
    "collapsed": true,
    "deletable": true,
    "editable": true
   },
   "outputs": [],
   "source": [
    "import TimeSeries.moving"
   ]
  },
  {
   "cell_type": "code",
   "execution_count": 135,
   "metadata": {
    "collapsed": true,
    "deletable": true,
    "editable": true
   },
   "outputs": [
    {
     "name": "stderr",
     "output_type": "stream",
     "text": [
      "WARNING: Method definition moving(TimeSeries.TimeArray{#T<:Any, 1, "
     ]
    },
    {
     "data": {
      "text/plain": [
       "moving (generic function with 2 methods)"
      ]
     },
     "execution_count": 135,
     "metadata": {},
     "output_type": "execute_result"
    }
   ],
   "source": [
    "# Función ventana\n",
    "function moving{T}(ta::TimeArray{T,1}, f::Function, window::Int; padding::Bool=false)\n",
    "    tstamps = padding ? ta.timestamp : ta.timestamp[window:end]\n",
    "    vals    = zeros(ta.values[window:end])\n",
    "    @inbounds for i=1:length(vals)\n",
    "        vals[i] = f(ta.values[i:i+(window-1)])\n",
    "    end\n",
    "    padding && (vals = [NaN*ones(window-1); vals])\n",
    "    TimeArray(tstamps, vals, ta.colnames, ta.meta)\n",
    "end\n",
    "\n",
    "function moving{T}(ta::TimeArray{T,2}, f::Function, window::Int; padding::Bool=false)\n",
    "    tstamps = padding ? ta.timestamp : ta.timestamp[window:end]\n",
    "    vals    = zeros(ta.values[window:end, :])\n",
    "    @inbounds for i=1:size(vals,1), j=1:size(vals, 2)\n",
    "        vals[i, j] = f(ta.values[i:i+(window-1), j])\n",
    "    end\n",
    "    padding && (vals = [NaN*ones(ta.values[1:(window-1), :]); vals])\n",
    "    TimeArray(tstamps, vals, ta.colnames, ta.meta)\n",
    "end"
   ]
  },
  {
   "cell_type": "code",
   "execution_count": 136,
   "metadata": {
    "collapsed": true,
    "deletable": true,
    "editable": true
   },
   "outputs": [
    {
     "name": "stderr",
     "output_type": "stream",
     "text": [
      "D<:Base.Dates.TimeType, A<:AbstractArray}, Function, Int64) in module Main at In[128]:3 overwritten at In[135]:3.\n",
      "WARNING: Method definition #moving("
     ]
    },
    {
     "data": {
      "text/plain": [
       "491x4 TimeSeries.TimeArray{Float64,2,Date,Array{Float64,2}} 2000-01-14 to 2001-12-31\n",
       "\n",
       "             Open      High      Low       Close     \n",
       "2000-01-14 | 100.692   103.981   96.001    98.782    \n",
       "2000-01-18 | 100.304   103.331   95.876    97.982    \n",
       "2000-01-19 | 100.041   103.144   96.095    98.388    \n",
       "2000-01-20 | 101.216   104.238   97.145    99.338    \n",
       "⋮\n",
       "2001-12-26 | 21.062    21.507    20.618    21.065    \n",
       "2001-12-27 | 21.033    21.54     20.651    21.123    \n",
       "2001-12-28 | 21.081    21.685    20.797    21.266    \n",
       "2001-12-31 | 21.259    21.868    20.971    21.417    \n"
      ]
     },
     "execution_count": 136,
     "metadata": {},
     "output_type": "execute_result"
    }
   ],
   "source": [
    "#Nice, ya podemos tomar promedios en ventanas de tamaño N = 10\n",
    "moving(ohlc,mean,10)"
   ]
  },
  {
   "cell_type": "code",
   "execution_count": 137,
   "metadata": {
    "collapsed": false,
    "deletable": true,
    "editable": true
   },
   "outputs": [
    {
     "name": "stderr",
     "output_type": "stream",
     "text": [
      "Array{Any, 1}, TimeSeries.#moving, TimeSeries.TimeArray{#T<:Any, 1, D<:"
     ]
    },
    {
     "ename": "LoadError",
     "evalue": "MethodError: no method matching start(::Symbol)\u001b[0m\nClosest candidates are:\n  start(\u001b[1m\u001b[31m::SimpleVector\u001b[0m) at essentials.jl:170\n  start(\u001b[1m\u001b[31m::Base.MethodList\u001b[0m) at reflection.jl:258\n  start(\u001b[1m\u001b[31m::IntSet\u001b[0m) at intset.jl:184\n  ...\u001b[0m",
     "output_type": "error",
     "traceback": [
      "MethodError: no method matching start(::Symbol)\u001b[0m\nClosest candidates are:\n  start(\u001b[1m\u001b[31m::SimpleVector\u001b[0m) at essentials.jl:170\n  start(\u001b[1m\u001b[31m::Base.MethodList\u001b[0m) at reflection.jl:258\n  start(\u001b[1m\u001b[31m::IntSet\u001b[0m) at intset.jl:184\n  ...\u001b[0m",
      "",
      " in anonymous at .\\<missing>:?"
     ]
    }
   ],
   "source": [
    "fs = (:mean)\n",
    "\n",
    "for f in fs\n",
    "@eval ($f) = moving(ohlc,$f,10)\n",
    "end"
   ]
  },
  {
   "cell_type": "code",
   "execution_count": 139,
   "metadata": {
    "collapsed": false,
    "deletable": true,
    "editable": true
   },
   "outputs": [],
   "source": [
    "# Aquí se van a desarrollar las funciones estrategia"
   ]
  },
  {
   "cell_type": "code",
   "execution_count": null,
   "metadata": {
    "collapsed": true,
    "deletable": true,
    "editable": true
   },
   "outputs": [],
   "source": []
  }
 ],
 "metadata": {
  "kernelspec": {
   "display_name": "Julia 0.5.1",
   "language": "julia",
   "name": "julia-0.5"
  },
  "language_info": {
   "file_extension": ".jl",
   "mimetype": "application/julia",
   "name": "julia",
   "version": "0.5.1"
  }
 },
 "nbformat": 4,
 "nbformat_minor": 2
}
